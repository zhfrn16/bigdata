{
  "nbformat": 4,
  "nbformat_minor": 0,
  "metadata": {
    "colab": {
      "name": "Untitled0.ipynb",
      "provenance": [],
      "authorship_tag": "ABX9TyO0lNDwk7vehn5iTqrF8hyx",
      "include_colab_link": true
    },
    "kernelspec": {
      "name": "python3",
      "display_name": "Python 3"
    },
    "language_info": {
      "name": "python"
    }
  },
  "cells": [
    {
      "cell_type": "markdown",
      "metadata": {
        "id": "view-in-github",
        "colab_type": "text"
      },
      "source": [
        "<a href=\"https://colab.research.google.com/github/zhfrn16/bigdata/blob/main/latihan.ipynb\" target=\"_parent\"><img src=\"https://colab.research.google.com/assets/colab-badge.svg\" alt=\"Open In Colab\"/></a>"
      ]
    },
    {
      "cell_type": "markdown",
      "metadata": {
        "id": "1TX7a_hhEaeM"
      },
      "source": [
        "**IPython Magic Commands**\n",
        "\n",
        "# Pasting Code Blocks: %paste and %cpaste\n",
        "\n",
        "Saat Anda bekerja dengan penerjemah IPython, satu masalah yang umum adalah menempelkannya\n",
        "blok kode multiline dapat menyebabkan kesalahan tak terduga, terutama saat lekukan dan\n",
        "penanda penerjemah terlibat. Kasus yang umum adalah Anda menemukan beberapa kode contoh\n",
        "di situs web dan ingin menempelkannya ke penerjemah Anda. Simak sederhana berikut ini\n",
        "fungsi:"
      ]
    },
    {
      "cell_type": "code",
      "metadata": {
        "colab": {
          "base_uri": "https://localhost:8080/",
          "height": 128
        },
        "id": "T8rA_435Es2l",
        "outputId": "74a00115-46d9-476a-c573-9132f349c93f"
      },
      "source": [
        ">>> def donothing(x):\n",
        "... return x"
      ],
      "execution_count": 3,
      "outputs": [
        {
          "output_type": "error",
          "ename": "IndentationError",
          "evalue": "ignored",
          "traceback": [
            "\u001b[0;36m  File \u001b[0;32m\"<ipython-input-3-9cd11e388a18>\"\u001b[0;36m, line \u001b[0;32m2\u001b[0m\n\u001b[0;31m    return x\u001b[0m\n\u001b[0m         ^\u001b[0m\n\u001b[0;31mIndentationError\u001b[0m\u001b[0;31m:\u001b[0m expected an indented block\n"
          ]
        }
      ]
    },
    {
      "cell_type": "markdown",
      "metadata": {
        "id": "7zr9D2DCGpse"
      },
      "source": [
        "Dalam paste langsung, juru bahasa bingung dengan karakter prompt tambahan.\n",
        "Tapi jangan takut — Fungsi ajaib% paste IPython dirancang untuk menangani jenis yang tepat ini\n",
        "dari multiline, masukan yang ditandai:\n",
        "\n",
        "Perintah% paste masuk dan menjalankan kode, jadi sekarang fungsinya adalah\n",
        "siap pakai:"
      ]
    },
    {
      "cell_type": "code",
      "metadata": {
        "colab": {
          "base_uri": "https://localhost:8080/",
          "height": 128
        },
        "id": "t09AkESNGuNo",
        "outputId": "f7ce7882-757a-459a-d9d4-aef16a38ab6e"
      },
      "source": [
        " %paste\n",
        ">>> def donothing(x):\n",
        "... return x\n",
        "## -- End pasted text --\n",
        "\n",
        "donothing(10)\n"
      ],
      "execution_count": 12,
      "outputs": [
        {
          "output_type": "error",
          "ename": "SyntaxError",
          "evalue": "ignored",
          "traceback": [
            "\u001b[0;36m  File \u001b[0;32m\"<ipython-input-12-191988269671>\"\u001b[0;36m, line \u001b[0;32m2\u001b[0m\n\u001b[0;31m    >>> def donothing(x):\u001b[0m\n\u001b[0m     ^\u001b[0m\n\u001b[0;31mSyntaxError\u001b[0m\u001b[0;31m:\u001b[0m invalid syntax\n"
          ]
        }
      ]
    },
    {
      "cell_type": "markdown",
      "metadata": {
        "id": "TZG2ZSC6Hz0H"
      },
      "source": [
        "Perintah dengan maksud yang sama adalah% cpaste, yang membuka multiline interaktif\n",
        "prompt di mana Anda dapat menempelkan satu atau lebih potongan kode untuk dieksekusi dalam satu batch:"
      ]
    },
    {
      "cell_type": "code",
      "metadata": {
        "colab": {
          "base_uri": "https://localhost:8080/",
          "height": 128
        },
        "id": "4zHFOMLbH366",
        "outputId": "2349b7c6-68dd-4f47-c839-d263f8c38ff0"
      },
      "source": [
        "%cpaste\n",
        "Pasting code ; enter '--' alone on the line to stop or use Ctrl-D.\n",
        " \n",
        ":>>> def donothing(x):\n",
        ":... return x\n",
        ":--\n"
      ],
      "execution_count": 17,
      "outputs": [
        {
          "output_type": "error",
          "ename": "SyntaxError",
          "evalue": "ignored",
          "traceback": [
            "\u001b[0;36m  File \u001b[0;32m\"<ipython-input-17-b5de9052f6e5>\"\u001b[0;36m, line \u001b[0;32m2\u001b[0m\n\u001b[0;31m    Pasting code ; enter '--' alone on the line to stop or use Ctrl-D.\u001b[0m\n\u001b[0m               ^\u001b[0m\n\u001b[0;31mSyntaxError\u001b[0m\u001b[0;31m:\u001b[0m invalid syntax\n"
          ]
        }
      ]
    },
    {
      "cell_type": "markdown",
      "metadata": {
        "id": "JhciA-TdJPl4"
      },
      "source": [
        "**Running External Code: %run**\n",
        "\n",
        "Saat Anda mulai mengembangkan kode yang lebih ekstensif, kemungkinan besar Anda akan mulai bekerja\n",
        "baik IPython untuk eksplorasi interaktif, serta editor teks untuk menyimpan kode yang Anda miliki\n",
        "ingin menggunakan kembali. Daripada menjalankan kode ini di jendela baru, ini bisa jadi lebih mudah\n",
        "untuk menjalankannya dalam sesi IPython Anda. Ini dapat dilakukan dengan magic %run.\n",
        "Misalnya, bayangkan Anda telah membuat file myscript.py dengan konten berikut:"
      ]
    },
    {
      "cell_type": "code",
      "metadata": {
        "colab": {
          "base_uri": "https://localhost:8080/"
        },
        "id": "V30AnKcFJlJH",
        "outputId": "b8c8d7e4-85de-42e5-e0bd-95985338e0c3"
      },
      "source": [
        "def square(x):\n",
        " \"\"\"square a number\"\"\"\n",
        " return x ** 2\n",
        "for N in range(1, 4):\n",
        " print(N, \"squared is\", square(N))\n"
      ],
      "execution_count": 20,
      "outputs": [
        {
          "output_type": "stream",
          "text": [
            "1 squared is 1\n",
            "2 squared is 4\n",
            "3 squared is 9\n"
          ],
          "name": "stdout"
        }
      ]
    },
    {
      "cell_type": "markdown",
      "metadata": {
        "id": "-FkVJVQkJ_1G"
      },
      "source": [
        "**Timing Code Execution: %timeit**\n",
        "\n",
        "Contoh lain dari fungsi magic yang berguna adalah %timeit, yang akan otomatis\n",
        "menentukan waktu eksekusi pernyataan Python baris tunggal yang mengikutinya.\n",
        "Misalnya, kami mungkin ingin memeriksa kinerja pemahaman daftar:\n",
        "\n",
        "Manfaat dari %timeit adalah bahwa untuk perintah pendek ia akan secara otomatis melakukan multiple berjalan untuk mencapai hasil yang lebih kuat. Untuk pernyataan multiline, menambahkan tanda % kedua akan mengubah ini menjadi keajaiban sel yang dapat menangani banyak baris input.\n",
        "Misalnya, berikut adalah konstruksi yang setara dengan for loop:"
      ]
    },
    {
      "cell_type": "code",
      "metadata": {
        "colab": {
          "base_uri": "https://localhost:8080/"
        },
        "id": "w5JO3MtvKT1h",
        "outputId": "eeaa71ef-e9c5-4ee5-f176-caa8a903fa63"
      },
      "source": [
        "%timeit L = [n ** 2 for n in range(1000)]"
      ],
      "execution_count": 26,
      "outputs": [
        {
          "output_type": "stream",
          "text": [
            "1000 loops, best of 5: 260 µs per loop\n"
          ],
          "name": "stdout"
        }
      ]
    },
    {
      "cell_type": "code",
      "metadata": {
        "colab": {
          "base_uri": "https://localhost:8080/"
        },
        "id": "Mbw1D_ssLHs1",
        "outputId": "91d51c71-08bc-4789-80a9-6597654315f7"
      },
      "source": [
        "%%timeit\n",
        "\n",
        "L = []\n",
        "for n in range(1000):\n",
        "  L.append (n ** 2)"
      ],
      "execution_count": 31,
      "outputs": [
        {
          "output_type": "stream",
          "text": [
            "1000 loops, best of 5: 301 µs per loop\n"
          ],
          "name": "stdout"
        }
      ]
    },
    {
      "cell_type": "markdown",
      "metadata": {
        "id": "ue8VBEm5Lkbp"
      },
      "source": [
        "**Help on Magic Functions: ?, %magic, and %lsmagic**\n",
        "\n",
        "Seperti fungsi Python normal, fungsi sihir IPython memiliki dokumen, dan ini\n",
        "dokumentasi yang berguna dapat diakses dengan cara standar."
      ]
    },
    {
      "cell_type": "code",
      "metadata": {
        "id": "MbbnThuoLs9G"
      },
      "source": [
        "%timeit?"
      ],
      "execution_count": 33,
      "outputs": []
    },
    {
      "cell_type": "code",
      "metadata": {
        "id": "v6lncS7yMRg1"
      },
      "source": [
        "%magic"
      ],
      "execution_count": 34,
      "outputs": []
    },
    {
      "cell_type": "code",
      "metadata": {
        "colab": {
          "base_uri": "https://localhost:8080/",
          "height": 154
        },
        "id": "a6aM7xApMTxG",
        "outputId": "e61cba92-db40-488c-bf91-e75fd3d6a90a"
      },
      "source": [
        "%lsmagic"
      ],
      "execution_count": 35,
      "outputs": [
        {
          "output_type": "execute_result",
          "data": {
            "application/json": {
              "cell": {
                "prun": "ExecutionMagics",
                "file": "Other",
                "!": "OSMagics",
                "capture": "ExecutionMagics",
                "timeit": "ExecutionMagics",
                "script": "ScriptMagics",
                "pypy": "Other",
                "system": "OSMagics",
                "perl": "Other",
                "html": "DisplayMagics",
                "bash": "Other",
                "shell": "Other",
                "HTML": "Other",
                "python": "Other",
                "SVG": "Other",
                "javascript": "DisplayMagics",
                "bigquery": "Other",
                "js": "DisplayMagics",
                "writefile": "OSMagics",
                "ruby": "Other",
                "python3": "Other",
                "python2": "Other",
                "latex": "DisplayMagics",
                "sx": "OSMagics",
                "svg": "DisplayMagics",
                "sh": "Other",
                "time": "ExecutionMagics",
                "debug": "ExecutionMagics"
              },
              "line": {
                "psource": "NamespaceMagics",
                "logstart": "LoggingMagics",
                "popd": "OSMagics",
                "tensorflow_version": "Other",
                "loadpy": "CodeMagics",
                "colors": "BasicMagics",
                "who_ls": "NamespaceMagics",
                "lf": "Other",
                "ll": "Other",
                "pprint": "BasicMagics",
                "lk": "Other",
                "ls": "Other",
                "save": "CodeMagics",
                "tb": "ExecutionMagics",
                "lx": "Other",
                "pylab": "PylabMagics",
                "killbgscripts": "ScriptMagics",
                "quickref": "BasicMagics",
                "magic": "BasicMagics",
                "dhist": "OSMagics",
                "edit": "KernelMagics",
                "logstop": "LoggingMagics",
                "gui": "BasicMagics",
                "prun": "ExecutionMagics",
                "debug": "ExecutionMagics",
                "page": "BasicMagics",
                "logstate": "LoggingMagics",
                "ed": "Other",
                "pushd": "OSMagics",
                "timeit": "ExecutionMagics",
                "set_env": "OSMagics",
                "rehashx": "OSMagics",
                "hist": "Other",
                "qtconsole": "KernelMagics",
                "rm": "Other",
                "dirs": "OSMagics",
                "run": "ExecutionMagics",
                "reset_selective": "NamespaceMagics",
                "pinfo2": "NamespaceMagics",
                "matplotlib": "PylabMagics",
                "unload_ext": "ExtensionMagics",
                "doctest_mode": "BasicMagics",
                "logoff": "LoggingMagics",
                "reload_ext": "ExtensionMagics",
                "pdb": "ExecutionMagics",
                "load": "CodeMagics",
                "lsmagic": "BasicMagics",
                "autosave": "KernelMagics",
                "cd": "OSMagics",
                "pastebin": "CodeMagics",
                "alias_magic": "BasicMagics",
                "cp": "Other",
                "autocall": "AutoMagics",
                "ldir": "Other",
                "bookmark": "OSMagics",
                "connect_info": "KernelMagics",
                "mkdir": "Other",
                "system": "OSMagics",
                "whos": "NamespaceMagics",
                "rmdir": "Other",
                "automagic": "AutoMagics",
                "store": "StoreMagics",
                "more": "KernelMagics",
                "shell": "Other",
                "pdef": "NamespaceMagics",
                "precision": "BasicMagics",
                "pinfo": "NamespaceMagics",
                "pwd": "OSMagics",
                "psearch": "NamespaceMagics",
                "reset": "NamespaceMagics",
                "recall": "HistoryMagics",
                "xdel": "NamespaceMagics",
                "xmode": "BasicMagics",
                "cat": "Other",
                "mv": "Other",
                "rerun": "HistoryMagics",
                "logon": "LoggingMagics",
                "history": "HistoryMagics",
                "pycat": "OSMagics",
                "pip": "Other",
                "unalias": "OSMagics",
                "env": "OSMagics",
                "load_ext": "ExtensionMagics",
                "config": "ConfigMagics",
                "profile": "BasicMagics",
                "pfile": "NamespaceMagics",
                "less": "KernelMagics",
                "who": "NamespaceMagics",
                "notebook": "BasicMagics",
                "man": "KernelMagics",
                "sx": "OSMagics",
                "macro": "ExecutionMagics",
                "clear": "KernelMagics",
                "alias": "OSMagics",
                "time": "ExecutionMagics",
                "sc": "OSMagics",
                "rep": "Other",
                "pdoc": "NamespaceMagics"
              }
            },
            "text/plain": [
              "Available line magics:\n",
              "%alias  %alias_magic  %autocall  %automagic  %autosave  %bookmark  %cat  %cd  %clear  %colors  %config  %connect_info  %cp  %debug  %dhist  %dirs  %doctest_mode  %ed  %edit  %env  %gui  %hist  %history  %killbgscripts  %ldir  %less  %lf  %lk  %ll  %load  %load_ext  %loadpy  %logoff  %logon  %logstart  %logstate  %logstop  %ls  %lsmagic  %lx  %macro  %magic  %man  %matplotlib  %mkdir  %more  %mv  %notebook  %page  %pastebin  %pdb  %pdef  %pdoc  %pfile  %pinfo  %pinfo2  %pip  %popd  %pprint  %precision  %profile  %prun  %psearch  %psource  %pushd  %pwd  %pycat  %pylab  %qtconsole  %quickref  %recall  %rehashx  %reload_ext  %rep  %rerun  %reset  %reset_selective  %rm  %rmdir  %run  %save  %sc  %set_env  %shell  %store  %sx  %system  %tb  %tensorflow_version  %time  %timeit  %unalias  %unload_ext  %who  %who_ls  %whos  %xdel  %xmode\n",
              "\n",
              "Available cell magics:\n",
              "%%!  %%HTML  %%SVG  %%bash  %%bigquery  %%capture  %%debug  %%file  %%html  %%javascript  %%js  %%latex  %%perl  %%prun  %%pypy  %%python  %%python2  %%python3  %%ruby  %%script  %%sh  %%shell  %%svg  %%sx  %%system  %%time  %%timeit  %%writefile\n",
              "\n",
              "Automagic is ON, % prefix IS NOT needed for line magics."
            ]
          },
          "metadata": {
            "tags": []
          },
          "execution_count": 35
        }
      ]
    },
    {
      "cell_type": "markdown",
      "metadata": {
        "id": "PszyM_uNMYq2"
      },
      "source": [
        "**IPython’s In and Out Objects**\n",
        "\n",
        "Sekarang saya membayangkan Anda cukup akrab dengan petunjuk In [1]: / Out [1]: style yang digunakan\n",
        "oleh IPython. Tapi ternyata ini bukan hanya dekorasi yang cantik: mereka memberi petunjuk\n",
        "tentang bagaimana Anda dapat mengakses input dan output sebelumnya dalam sesi Anda saat ini. Bayangkan Anda memulai sesi yang terlihat seperti ini:"
      ]
    },
    {
      "cell_type": "code",
      "metadata": {
        "id": "RkVNbbypO-dJ"
      },
      "source": [
        "import math"
      ],
      "execution_count": 49,
      "outputs": []
    },
    {
      "cell_type": "code",
      "metadata": {
        "colab": {
          "base_uri": "https://localhost:8080/"
        },
        "id": "uuR-nJqEMzaN",
        "outputId": "26cd4a21-4ca8-40be-9f30-c30f6ba25f2f"
      },
      "source": [
        "math.sin(2)"
      ],
      "execution_count": 46,
      "outputs": [
        {
          "output_type": "execute_result",
          "data": {
            "text/plain": [
              "0.9092974268256817"
            ]
          },
          "metadata": {
            "tags": []
          },
          "execution_count": 46
        }
      ]
    },
    {
      "cell_type": "code",
      "metadata": {
        "colab": {
          "base_uri": "https://localhost:8080/"
        },
        "id": "r60csBvoM-mf",
        "outputId": "01b3d71e-870a-414a-89b5-e6d3e8ae2cae"
      },
      "source": [
        "math.cos(2)"
      ],
      "execution_count": 45,
      "outputs": [
        {
          "output_type": "execute_result",
          "data": {
            "text/plain": [
              "-0.4161468365471424"
            ]
          },
          "metadata": {
            "tags": []
          },
          "execution_count": 45
        }
      ]
    },
    {
      "cell_type": "markdown",
      "metadata": {
        "id": "6SURQHwdNNaH"
      },
      "source": [
        "Kami telah mengimpor paket matematika bawaan, lalu menghitung sinus dan kosinus dari\n",
        "nomor 2. Input dan output ini ditampilkan di shell dengan label In / Out,\n",
        "tetapi ada lebih banyak IPython yang benar-benar membuat beberapa variabel Python yang disebut Masuk dan Keluar\n",
        "yang secara otomatis diperbarui untuk mencerminkan riwayat ini:"
      ]
    },
    {
      "cell_type": "code",
      "metadata": {
        "colab": {
          "base_uri": "https://localhost:8080/"
        },
        "id": "QKUmbDDjPRME",
        "outputId": "2f2b40e9-1a70-497b-8183-e94cc2742a93"
      },
      "source": [
        "print(In)\n",
        "['', 'import math', 'math.sin(2)', 'math.cos(2)', 'print(In)']"
      ],
      "execution_count": 73,
      "outputs": [
        {
          "output_type": "stream",
          "text": [
            "['', 'def donothing(x):\\nreturn x', \"get_ipython().magic('paste')\\n>>> def donothing(x):\\n... return x\", 'def donothing(x):\\nreturn x', 'def donothing(x):\\n... return x\\n\\n File \"<ipython-input-20-5a66c8964687>\", line 2\\n ... return x', 'def donothing(x):\\n... return x', 'def donothing(x):\\n... return x', \"get_ipython().magic('paste')\\n>>> def donothing(x):\\n... return x\\n## -- End pasted text --\", \"get_ipython().magic('paste')\\n>>> def donothing(x):\\n... return x\\n## -- End pasted text --\\n\\ndonothing(10)\", \"get_ipython().magic('cpaste')\\nPasting code; enter '--' alone on the line to stop or use Ctrl-D.\\n:>>> def donothing(x):\\n:... return x\\n:--\", \"get_ipython().magic('paste')\\ndef donothing(x):\\n... return x\\n## -- End pasted text --\\n\\ndonothing(10)\", \"get_ipython().magic('paste')\\ndef donothing(x):\\nreturn x\\n## -- End pasted text --\\n\\ndonothing(10)\", \"get_ipython().magic('paste')\\n>>> def donothing(x):\\n... return x\\n## -- End pasted text --\\n\\ndonothing(10)\", \"get_ipython().magic('cpaste')\\n:>>> def donothing(x):\\n:... return x\\n:--\", \"get_ipython().magic('cpaste')\\nPasting code; enter '--' \\n:>>> def donothing(x):\\n:... return x\\n:--\", \"get_ipython().magic('cpaste')\\nPasting code ; enter '--' \\n:>>> def donothing(x):\\n:... return x\\n:--\", \"get_ipython().magic('cpaste')\\nPasting code ; enter '--' Pasting code; enter '--'  \\n:>>> def donothing(x):\\n:... return x\\n:--\", \"get_ipython().magic('cpaste')\\nPasting code ; enter '--' alone on the line to stop or use Ctrl-D.\\n \\n:>>> def donothing(x):\\n:... return x\\n:--\", 'def square(x):\\n \"\"\"square a number\"\"\"\\n return x ** 2\\nfor N in range(1, 4):\\n print(N, \"squared is\", square(N))', 'def square(x):\\n \"\"\"square a number\"\"\"\\n return x ** 2\\nfor N in range(1, 4):\\n print(5, \"squared is\", square(5))', 'def square(x):\\n \"\"\"square a number\"\"\"\\n return x ** 2\\nfor N in range(1, 4):\\n print(N, \"squared is\", square(N))', \"get_ipython().magic('timeit L = [n ** 2 for n in range(1000)]')\\n1000 loops, best of 3: 325 µs per loop\", \"get_ipython().magic('timeit L = [n ** 2 for n in range(1000)]')\\n1000 loops, best of 3: 325 \", \"get_ipython().magic('timeit L = [n ** 2 for n in range(1000)]')\\n\\n%%timeit\\n ...: L = []\\n ...: for n in range(1000):\\n ...: L.append(n ** 2)\\n ...:\\n1000 loops, best of 3: 373 µs per loop\", \"get_ipython().magic('timeit L = [n ** 2 for n in range(1000)]')\\n\\n%%timeit\\n ...: L = []\\n ...: for n in range(1000):\\n ...: L.append(n ** 2)\\n ...:\", \"get_ipython().magic('timeit L = [n ** 2 for n in range(1000)]')\\n\\n%%timeit\\n ...: L = []\\n ...: for n in range(1000):\\n ...: L.append(n ** 2)\\n ...:\", \"get_ipython().magic('timeit L = [n ** 2 for n in range(1000)]')\", \"get_ipython().run_cell_magic('timeit', '', ' ...: L = []\\\\n ...: for n in range(1000):\\\\n ...: L.append(n ** 2)\\\\n ...:')\", \"get_ipython().run_cell_magic('timeit', '', 'L = []\\\\nfor n in range(1000):\\\\nL.append(n ** 2)')\", \"get_ipython().run_cell_magic('timeit', '', 'L = []\\\\nfor n in range(1000):\\\\nL.append (n ** 2)')\", \"get_ipython().run_cell_magic('timeit', '', '\\\\nL = []\\\\n\\\\nfor n in range(1000):\\\\n  \\\\nL.append (n ** 2)')\", \"get_ipython().run_cell_magic('timeit', '', '\\\\nL = []\\\\nfor n in range(1000):\\\\n  L.append (n ** 2)')\", \"get_ipython().magic('pinfo %timeit')\", \"get_ipython().magic('pinfo %timeit')\", \"get_ipython().magic('magic')\", \"get_ipython().magic('lsmagic')\", 'import math\\nmath.sin(2)\\nmath.cos(2)', 'import math\\nmath.cos(2)', 'import math\\nmath.sin(2)', \"print(In)\\n['', 'import math', 'math.sin(2)', 'math.cos(2)', 'print(In)']\", \"print(In)\\n['', 'import math', 'math.sin(2)', 'math.cos(2)', 'print(In)']\", \"print(In)\\n['', 'import math', 'math.sin(2)', 'math.cos(2)', 'print(In)']\\nout\", 'print(In[38])\\nimport math', 'print(In[38])\\nimport math\\n\\nprint(Out[2])', '\\nmath.cos(2)', 'math.cos(2)', 'import math\\nmath.sin(2)', 'print(In[46])\\nimport math\\n\\nprint(Out[45])', 'import math', 'import math', 'print(In[49])\\nimport math\\n\\nprint(Out[46])', \"print(In)\\n['', 'import math', 'math.sin(2)', 'math.cos(2)', 'print(In)']\", 'Out', \"print(In)\\n['', 'import math', 'math.sin(2)', 'math.cos(2)', 'print(In)']\", 'Out', 'print(In[49])\\nimport math\\n\\nprint(Out[46])', 'print(_)', 'print(_)\\n1.0', 'print(__)', ': print(__)\\n-0.4161468365471424', 'print(__)\\n-0.4161468365471424', 'out[2]', 'out[46]', 'Out[46]', '_2', '_46', 'math.sin(2) + math.cos(2);', 'math.sin(2) + math.cos(2);', '67 in Out', \"get_ipython().magic('history -n 1-4')\\n 1: import math\\n 2: math.sin(2)\\n 3: math.cos(2)\\n 4: print(In)\", \"get_ipython().magic('history -n 1-4')\\n 1: import math\\n 2: math.sin(2)\\n 3: math.cos(2)\\n 4: print(In)\", 'print(In)', 'Out', \"print(In)\\n['', 'import math', 'math.sin(2)', 'math.cos(2)', 'print(In)']\"]\n"
          ],
          "name": "stdout"
        },
        {
          "output_type": "execute_result",
          "data": {
            "text/plain": [
              "['', 'import math', 'math.sin(2)', 'math.cos(2)', 'print(In)']"
            ]
          },
          "metadata": {
            "tags": []
          },
          "execution_count": 73
        }
      ]
    },
    {
      "cell_type": "code",
      "metadata": {
        "colab": {
          "base_uri": "https://localhost:8080/"
        },
        "id": "8sX-maa3PSQI",
        "outputId": "659f9af6-c09f-4f5c-b39e-dfed15fc2117"
      },
      "source": [
        "Out"
      ],
      "execution_count": 74,
      "outputs": [
        {
          "output_type": "execute_result",
          "data": {
            "text/plain": [
              "{35: Available line magics:\n",
              "%alias  %alias_magic  %autocall  %automagic  %autosave  %bookmark  %cat  %cd  %clear  %colors  %config  %connect_info  %cp  %debug  %dhist  %dirs  %doctest_mode  %ed  %edit  %env  %gui  %hist  %history  %killbgscripts  %ldir  %less  %lf  %lk  %ll  %load  %load_ext  %loadpy  %logoff  %logon  %logstart  %logstate  %logstop  %ls  %lsmagic  %lx  %macro  %magic  %man  %matplotlib  %mkdir  %more  %mv  %notebook  %page  %pastebin  %pdb  %pdef  %pdoc  %pfile  %pinfo  %pinfo2  %pip  %popd  %pprint  %precision  %profile  %prun  %psearch  %psource  %pushd  %pwd  %pycat  %pylab  %qtconsole  %quickref  %recall  %rehashx  %reload_ext  %rep  %rerun  %reset  %reset_selective  %rm  %rmdir  %run  %save  %sc  %set_env  %shell  %store  %sx  %system  %tb  %tensorflow_version  %time  %timeit  %unalias  %unload_ext  %who  %who_ls  %whos  %xdel  %xmode\n",
              "\n",
              "Available cell magics:\n",
              "%%!  %%HTML  %%SVG  %%bash  %%bigquery  %%capture  %%debug  %%file  %%html  %%javascript  %%js  %%latex  %%perl  %%prun  %%pypy  %%python  %%python2  %%python3  %%ruby  %%script  %%sh  %%shell  %%svg  %%sx  %%system  %%time  %%timeit  %%writefile\n",
              "\n",
              "Automagic is ON, % prefix IS NOT needed for line magics.,\n",
              " 36: -0.4161468365471424,\n",
              " 37: -0.4161468365471424,\n",
              " 38: 0.9092974268256817,\n",
              " 39: ['', 'import math', 'math.sin(2)', 'math.cos(2)', 'print(In)'],\n",
              " 40: ['', 'import math', 'math.sin(2)', 'math.cos(2)', 'print(In)'],\n",
              " 44: -0.4161468365471424,\n",
              " 45: -0.4161468365471424,\n",
              " 46: 0.9092974268256817,\n",
              " 51: ['', 'import math', 'math.sin(2)', 'math.cos(2)', 'print(In)'],\n",
              " 53: ['', 'import math', 'math.sin(2)', 'math.cos(2)', 'print(In)'],\n",
              " 57: 1.0,\n",
              " 60: -0.4161468365471424,\n",
              " 63: 0.9092974268256817,\n",
              " 65: 0.9092974268256817,\n",
              " 68: False,\n",
              " 73: ['', 'import math', 'math.sin(2)', 'math.cos(2)', 'print(In)']}"
            ]
          },
          "metadata": {
            "tags": []
          },
          "execution_count": 74
        }
      ]
    },
    {
      "cell_type": "markdown",
      "metadata": {
        "id": "pLS4o_hBP4sO"
      },
      "source": [
        "Objek Masuk adalah daftar, yang melacak perintah secara berurutan :\n",
        "\n",
        "Objek Out bukanlah daftar tetapi kamus yang memetakan nomor masukan ke keluarannya :"
      ]
    },
    {
      "cell_type": "code",
      "metadata": {
        "colab": {
          "base_uri": "https://localhost:8080/"
        },
        "id": "V2HdbHZXPhxM",
        "outputId": "1163e5b4-b3a2-4a9e-ad63-24f5f6f935f8"
      },
      "source": [
        "print(In[49])\n",
        "import math\n",
        "\n",
        "print(Out[46])\n",
        "\n"
      ],
      "execution_count": 55,
      "outputs": [
        {
          "output_type": "stream",
          "text": [
            "import math\n",
            "0.9092974268256817\n"
          ],
          "name": "stdout"
        }
      ]
    },
    {
      "cell_type": "markdown",
      "metadata": {
        "id": "BYe8R12oQJQb"
      },
      "source": [
        "**Underscore Shortcuts and Previous Outputs**\n",
        "\n",
        "Shell Python standar hanya berisi satu pintasan sederhana untuk mengakses keluaran sebelumnya; variabel _ (yaitu, garis bawah tunggal) terus diperbarui dengan keluaran sebelumnya; ini berfungsi di IPython juga:"
      ]
    },
    {
      "cell_type": "code",
      "metadata": {
        "colab": {
          "base_uri": "https://localhost:8080/"
        },
        "id": "n9Icx5UpQXHb",
        "outputId": "92e7de99-c080-4c1e-81e6-559ec75ed7b3"
      },
      "source": [
        "print(__)\n",
        "-0.4161468365471424"
      ],
      "execution_count": 60,
      "outputs": [
        {
          "output_type": "stream",
          "text": [
            "['', 'import math', 'math.sin(2)', 'math.cos(2)', 'print(In)']\n"
          ],
          "name": "stdout"
        },
        {
          "output_type": "execute_result",
          "data": {
            "text/plain": [
              "-0.4161468365471424"
            ]
          },
          "metadata": {
            "tags": []
          },
          "execution_count": 60
        }
      ]
    },
    {
      "cell_type": "code",
      "metadata": {
        "colab": {
          "base_uri": "https://localhost:8080/"
        },
        "id": "-zE7PeSGQvSk",
        "outputId": "8b8c47d4-46bb-446f-8238-0755f97c3fd3"
      },
      "source": [
        "Out[46]"
      ],
      "execution_count": 63,
      "outputs": [
        {
          "output_type": "execute_result",
          "data": {
            "text/plain": [
              "0.9092974268256817"
            ]
          },
          "metadata": {
            "tags": []
          },
          "execution_count": 63
        }
      ]
    },
    {
      "cell_type": "markdown",
      "metadata": {
        "id": "_ELxKoUbRDjt"
      },
      "source": [
        "atau"
      ]
    },
    {
      "cell_type": "code",
      "metadata": {
        "colab": {
          "base_uri": "https://localhost:8080/"
        },
        "id": "PJ37wX-BQ-i9",
        "outputId": "3b5ead20-6104-4227-ea46-1a905a308b41"
      },
      "source": [
        "_46"
      ],
      "execution_count": 65,
      "outputs": [
        {
          "output_type": "execute_result",
          "data": {
            "text/plain": [
              "0.9092974268256817"
            ]
          },
          "metadata": {
            "tags": []
          },
          "execution_count": 65
        }
      ]
    },
    {
      "cell_type": "markdown",
      "metadata": {
        "id": "cdyqdIm_Rcft"
      },
      "source": [
        "**Suppressing Output**\n",
        "\n",
        "Kadang-kadang Anda mungkin ingin menyembunyikan keluaran dari sebuah pernyataan. \n",
        "Atau\n",
        "mungkin perintah yang Anda jalankan memberikan hasil yang tidak ingin Anda simpan dalam riwayat keluaran Anda, mungkin agar dapat dibatalkan alokasinya ketika referensi lain ada dihapus. Cara termudah untuk menekan keluaran dari sebuah perintah adalah dengan menambahkan titik koma\n",
        "ke akhir baris:"
      ]
    },
    {
      "cell_type": "code",
      "metadata": {
        "id": "4vGzRs1hR6sh"
      },
      "source": [
        "math.sin(2) + math.cos(2);"
      ],
      "execution_count": 67,
      "outputs": []
    },
    {
      "cell_type": "code",
      "metadata": {
        "colab": {
          "base_uri": "https://localhost:8080/"
        },
        "id": "5kCH6MlkR9xZ",
        "outputId": "d14d45d0-47fe-43f7-d3d6-41e1aa760bf3"
      },
      "source": [
        "67 in Out"
      ],
      "execution_count": 68,
      "outputs": [
        {
          "output_type": "execute_result",
          "data": {
            "text/plain": [
              "False"
            ]
          },
          "metadata": {
            "tags": []
          },
          "execution_count": 68
        }
      ]
    },
    {
      "cell_type": "markdown",
      "metadata": {
        "id": "9nfpJezqSJvw"
      },
      "source": [
        "**Related Magic Commands**\n",
        "\n",
        "Untuk mengakses sekumpulan input sebelumnya sekaligus, perintah sihir %history adalah sangat membantu. Berikut adalah cara :\n"
      ]
    },
    {
      "cell_type": "code",
      "metadata": {
        "colab": {
          "base_uri": "https://localhost:8080/"
        },
        "id": "rZWD_AxtSVWz",
        "outputId": "90f55546-225a-4ee8-9806-13cd3229bca0"
      },
      "source": [
        "%history\n"
      ],
      "execution_count": 85,
      "outputs": [
        {
          "output_type": "stream",
          "text": [
            ">>> def donothing(x):\n",
            "... return x\n",
            "%paste\n",
            ">>> def donothing(x):\n",
            "... return x\n",
            ">>> def donothing(x):\n",
            "... return x\n",
            ">>> def donothing(x):\n",
            " ...: ... return x\n",
            " ...:\n",
            " File \"<ipython-input-20-5a66c8964687>\", line 2\n",
            " ... return x\n",
            ">>> def donothing(x):\n",
            " ...: ... return x\n",
            " ...:\n",
            ">>> def donothing(x):\n",
            " ...: ... return x\n",
            " ...:\n",
            " %paste\n",
            ">>> def donothing(x):\n",
            "... return x\n",
            "## -- End pasted text --\n",
            " %paste\n",
            ">>> def donothing(x):\n",
            "... return x\n",
            "## -- End pasted text --\n",
            "\n",
            "donothing(10)\n",
            "%cpaste\n",
            "Pasting code; enter '--' alone on the line to stop or use Ctrl-D.\n",
            ":>>> def donothing(x):\n",
            ":... return x\n",
            ":--\n",
            " %paste\n",
            " def donothing(x):\n",
            "... return x\n",
            "## -- End pasted text --\n",
            "\n",
            "donothing(10)\n",
            " %paste\n",
            " def donothing(x):\n",
            " return x\n",
            "## -- End pasted text --\n",
            "\n",
            "donothing(10)\n",
            " %paste\n",
            ">>> def donothing(x):\n",
            "... return x\n",
            "## -- End pasted text --\n",
            "\n",
            "donothing(10)\n",
            "%cpaste\n",
            ":>>> def donothing(x):\n",
            ":... return x\n",
            ":--\n",
            "%cpaste\n",
            "Pasting code; enter '--' \n",
            ":>>> def donothing(x):\n",
            ":... return x\n",
            ":--\n",
            "%cpaste\n",
            "Pasting code ; enter '--' \n",
            ":>>> def donothing(x):\n",
            ":... return x\n",
            ":--\n",
            "%cpaste\n",
            "Pasting code ; enter '--' Pasting code; enter '--'  \n",
            ":>>> def donothing(x):\n",
            ":... return x\n",
            ":--\n",
            "%cpaste\n",
            "Pasting code ; enter '--' alone on the line to stop or use Ctrl-D.\n",
            " \n",
            ":>>> def donothing(x):\n",
            ":... return x\n",
            ":--\n",
            "def square(x):\n",
            " \"\"\"square a number\"\"\"\n",
            " return x ** 2\n",
            "for N in range(1, 4):\n",
            " print(N, \"squared is\", square(N))\n",
            "def square(x):\n",
            " \"\"\"square a number\"\"\"\n",
            " return x ** 2\n",
            "for N in range(1, 4):\n",
            " print(5, \"squared is\", square(5))\n",
            "def square(x):\n",
            " \"\"\"square a number\"\"\"\n",
            " return x ** 2\n",
            "for N in range(1, 4):\n",
            " print(N, \"squared is\", square(N))\n",
            "%timeit L = [n ** 2 for n in range(1000)]\n",
            "1000 loops, best of 3: 325 µs per loop\n",
            "%timeit L = [n ** 2 for n in range(1000)]\n",
            "1000 loops, best of 3: 325\n",
            "%timeit L = [n ** 2 for n in range(1000)]\n",
            "\n",
            "%%timeit\n",
            " ...: L = []\n",
            " ...: for n in range(1000):\n",
            " ...: L.append(n ** 2)\n",
            " ...:\n",
            "1000 loops, best of 3: 373 µs per loop\n",
            "%timeit L = [n ** 2 for n in range(1000)]\n",
            "\n",
            "%%timeit\n",
            " ...: L = []\n",
            " ...: for n in range(1000):\n",
            " ...: L.append(n ** 2)\n",
            " ...:\n",
            "%timeit L = [n ** 2 for n in range(1000)]\n",
            "\n",
            "%%timeit\n",
            " ...: L = []\n",
            " ...: for n in range(1000):\n",
            " ...: L.append(n ** 2)\n",
            " ...:\n",
            "%timeit L = [n ** 2 for n in range(1000)]\n",
            "%%timeit\n",
            " ...: L = []\n",
            " ...: for n in range(1000):\n",
            " ...: L.append(n ** 2)\n",
            " ...:\n",
            "%%timeit\n",
            "L = []\n",
            "for n in range(1000):\n",
            "L.append(n ** 2)\n",
            "%%timeit\n",
            "L = []\n",
            "for n in range(1000):\n",
            "L.append (n ** 2)\n",
            "%%timeit\n",
            "\n",
            "L = []\n",
            "\n",
            "for n in range(1000):\n",
            "  \n",
            "L.append (n ** 2)\n",
            "%%timeit\n",
            "\n",
            "L = []\n",
            "for n in range(1000):\n",
            "  L.append (n ** 2)\n",
            "%timeit?\n",
            "%timeit?\n",
            "%magic\n",
            "%lsmagic\n",
            "import math\n",
            "math.sin(2)\n",
            "math.cos(2)\n",
            "import math\n",
            "math.cos(2)\n",
            "import math\n",
            "math.sin(2)\n",
            "print(In)\n",
            "['', 'import math', 'math.sin(2)', 'math.cos(2)', 'print(In)']\n",
            "print(In)\n",
            "['', 'import math', 'math.sin(2)', 'math.cos(2)', 'print(In)']\n",
            "print(In)\n",
            "['', 'import math', 'math.sin(2)', 'math.cos(2)', 'print(In)']\n",
            "out\n",
            "print(In[38])\n",
            "import math\n",
            "print(In[38])\n",
            "import math\n",
            "\n",
            "print(Out[2])\n",
            "\n",
            "math.cos(2)\n",
            "math.cos(2)\n",
            "import math\n",
            "math.sin(2)\n",
            "print(In[46])\n",
            "import math\n",
            "\n",
            "print(Out[45])\n",
            "import math\n",
            "import math\n",
            "print(In[49])\n",
            "import math\n",
            "\n",
            "print(Out[46])\n",
            "print(In)\n",
            "['', 'import math', 'math.sin(2)', 'math.cos(2)', 'print(In)']\n",
            "Out\n",
            "print(In)\n",
            "['', 'import math', 'math.sin(2)', 'math.cos(2)', 'print(In)']\n",
            "Out\n",
            "print(In[49])\n",
            "import math\n",
            "\n",
            "print(Out[46])\n",
            "print(_)\n",
            "print(_)\n",
            "1.0\n",
            "print(__)\n",
            ": print(__)\n",
            "-0.4161468365471424\n",
            "print(__)\n",
            "-0.4161468365471424\n",
            "out[2]\n",
            "out[46]\n",
            "Out[46]\n",
            "_2\n",
            "_46\n",
            "math.sin(2) + math.cos(2);\n",
            "math.sin(2) + math.cos(2);\n",
            "67 in Out\n",
            "%history -n 1-4\n",
            " 1: import math\n",
            " 2: math.sin(2)\n",
            " 3: math.cos(2)\n",
            " 4: print(In)\n",
            "%history -n 1-4\n",
            " 1: import math\n",
            " 2: math.sin(2)\n",
            " 3: math.cos(2)\n",
            " 4: print(In)\n",
            "print(In)\n",
            "Out\n",
            "print(In)\n",
            "['', 'import math', 'math.sin(2)', 'math.cos(2)', 'print(In)']\n",
            "Out\n",
            "%history -n \n",
            " 49: import math\n",
            " 46: math.sin(2)\n",
            " 45: math.cos(2)\n",
            " 73: print(In)\n",
            "%history -n 45-73\n",
            " 49: import math\n",
            " 46: math.sin(2)\n",
            " 45: math.cos(2)\n",
            " 73: print(In)\n",
            "%history -n 45-73\n",
            "49: import math\n",
            "46: math.sin(2)\n",
            "45: math.cos(2)\n",
            "73: print(In)\n",
            "%history\n",
            "49: import math\n",
            "46: math.sin(2)\n",
            "45: math.cos(2)\n",
            "73: print(In)\n",
            "%history\n",
            "49:\n",
            "import math\n",
            "46:\n",
            "math.sin(2)\n",
            "45:\n",
            "math.cos(2)\n",
            "73:\n",
            "print(In)\n",
            "%history -n 45\n",
            "45: math.cos(2)\n",
            "%history -n 45\n",
            "45:\n",
            "math.cos(2)\n",
            "%history\n",
            "45:\n",
            "math.cos(2)\n",
            "%history\n",
            "49:\n",
            "import math\n",
            "%history\n",
            "49: import math\n",
            "%history\n"
          ],
          "name": "stdout"
        }
      ]
    },
    {
      "cell_type": "markdown",
      "metadata": {
        "id": "Uh-6yuKBUcPc"
      },
      "source": [
        "**IPython and Shell Commands**\n",
        "\n",
        "# IPython and Shell Commands\n",
        "\n"
      ]
    },
    {
      "cell_type": "code",
      "metadata": {
        "colab": {
          "base_uri": "https://localhost:8080/"
        },
        "id": "Z4NlsXd6U6Br",
        "outputId": "643af48c-b999-46f8-8f25-baaa01cfce99"
      },
      "source": [
        "!ls"
      ],
      "execution_count": 134,
      "outputs": [
        {
          "output_type": "stream",
          "text": [
            "sample_data\n"
          ],
          "name": "stdout"
        }
      ]
    },
    {
      "cell_type": "code",
      "metadata": {
        "colab": {
          "base_uri": "https://localhost:8080/"
        },
        "id": "-XAgJShlU7mk",
        "outputId": "f0638eae-d794-4448-8871-5004ac4e5cfa"
      },
      "source": [
        "!pwd"
      ],
      "execution_count": 135,
      "outputs": [
        {
          "output_type": "stream",
          "text": [
            "/content\n"
          ],
          "name": "stdout"
        }
      ]
    },
    {
      "cell_type": "code",
      "metadata": {
        "colab": {
          "base_uri": "https://localhost:8080/"
        },
        "id": "87FJlsQnU7yZ",
        "outputId": "5b276f8d-0462-4213-8858-14a0a1dcf18d"
      },
      "source": [
        "!echo \"Print shell\""
      ],
      "execution_count": 136,
      "outputs": [
        {
          "output_type": "stream",
          "text": [
            "Print shell\n"
          ],
          "name": "stdout"
        }
      ]
    },
    {
      "cell_type": "markdown",
      "metadata": {
        "id": "doavdt6OVMcT"
      },
      "source": [
        "**Passing Values to and from the Shell**\n",
        "\n",
        "Perintah shell tidak hanya dapat dipanggil dari IPython, tetapi juga dapat dibuat untuk bertindak dengan namespace IPython. Misalnya, Anda dapat menyimpan keluaran dari shell apa pun perintah ke daftar Python menggunakan operator penugasan:"
      ]
    },
    {
      "cell_type": "code",
      "metadata": {
        "colab": {
          "base_uri": "https://localhost:8080/"
        },
        "id": "P1LC6GWoVcUV",
        "outputId": "b1f066a5-7ba1-47c0-c414-98f98c6ba035"
      },
      "source": [
        "!ls"
      ],
      "execution_count": 137,
      "outputs": [
        {
          "output_type": "stream",
          "text": [
            "sample_data\n"
          ],
          "name": "stdout"
        }
      ]
    },
    {
      "cell_type": "code",
      "metadata": {
        "colab": {
          "base_uri": "https://localhost:8080/",
          "height": 162
        },
        "id": "459dbAq5VfO0",
        "outputId": "77d30408-d5c6-4e08-bb80-4186b3068631"
      },
      "source": [
        "print(contents)"
      ],
      "execution_count": 138,
      "outputs": [
        {
          "output_type": "error",
          "ename": "NameError",
          "evalue": "ignored",
          "traceback": [
            "\u001b[0;31m---------------------------------------------------------------------------\u001b[0m",
            "\u001b[0;31mNameError\u001b[0m                                 Traceback (most recent call last)",
            "\u001b[0;32m<ipython-input-138-238c6766c3e5>\u001b[0m in \u001b[0;36m<module>\u001b[0;34m()\u001b[0m\n\u001b[0;32m----> 1\u001b[0;31m \u001b[0mprint\u001b[0m\u001b[0;34m(\u001b[0m\u001b[0mcontents\u001b[0m\u001b[0;34m)\u001b[0m\u001b[0;34m\u001b[0m\u001b[0;34m\u001b[0m\u001b[0m\n\u001b[0m",
            "\u001b[0;31mNameError\u001b[0m: name 'contents' is not defined"
          ]
        }
      ]
    },
    {
      "cell_type": "code",
      "metadata": {
        "id": "0nztN8BWVfWS"
      },
      "source": [
        "directory = !pwd"
      ],
      "execution_count": 139,
      "outputs": []
    },
    {
      "cell_type": "code",
      "metadata": {
        "colab": {
          "base_uri": "https://localhost:8080/"
        },
        "id": "qPE4D4chVfcz",
        "outputId": "c8daf043-11dc-4ad7-e0bc-cf44236b3756"
      },
      "source": [
        "print(directory)"
      ],
      "execution_count": 140,
      "outputs": [
        {
          "output_type": "stream",
          "text": [
            "['/content']\n"
          ],
          "name": "stdout"
        }
      ]
    },
    {
      "cell_type": "code",
      "metadata": {
        "colab": {
          "base_uri": "https://localhost:8080/"
        },
        "id": "AZMjBJ5PWAuL",
        "outputId": "8233a2c3-0ac5-4f63-a1c5-09f813cefc1f"
      },
      "source": [
        "type(directory)"
      ],
      "execution_count": 141,
      "outputs": [
        {
          "output_type": "execute_result",
          "data": {
            "text/plain": [
              "IPython.utils.text.SList"
            ]
          },
          "metadata": {
            "tags": []
          },
          "execution_count": 141
        }
      ]
    },
    {
      "cell_type": "code",
      "metadata": {
        "id": "4_E_xqxdWA50"
      },
      "source": [
        "message = \"hello\""
      ],
      "execution_count": 142,
      "outputs": []
    },
    {
      "cell_type": "code",
      "metadata": {
        "colab": {
          "base_uri": "https://localhost:8080/"
        },
        "id": "gB15R4YIWKbT",
        "outputId": "dd6d388f-aa0b-4772-964b-50b796938e92"
      },
      "source": [
        "!echo {message}"
      ],
      "execution_count": 143,
      "outputs": [
        {
          "output_type": "stream",
          "text": [
            "hello\n"
          ],
          "name": "stdout"
        }
      ]
    },
    {
      "cell_type": "markdown",
      "metadata": {
        "id": "FQaQ1bK3XfzX"
      },
      "source": [
        "**Shell-Related Magic Commands**\n",
        "\n",
        "magic command :\n"
      ]
    },
    {
      "cell_type": "code",
      "metadata": {
        "colab": {
          "base_uri": "https://localhost:8080/"
        },
        "id": "Iocur1m0Xnf3",
        "outputId": "b13eca98-b084-498a-ed22-6341c0809216"
      },
      "source": [
        "!pwd\n"
      ],
      "execution_count": 144,
      "outputs": [
        {
          "output_type": "stream",
          "text": [
            "/content\n"
          ],
          "name": "stdout"
        }
      ]
    },
    {
      "cell_type": "code",
      "metadata": {
        "id": "d_pLCaLXXpXR"
      },
      "source": [
        "!cd ..\n"
      ],
      "execution_count": 145,
      "outputs": []
    },
    {
      "cell_type": "code",
      "metadata": {
        "colab": {
          "base_uri": "https://localhost:8080/"
        },
        "id": "AEqGmzo1Xphx",
        "outputId": "b5665a9f-2d4f-4482-9d54-b00da936a121"
      },
      "source": [
        "!pwd\n"
      ],
      "execution_count": 146,
      "outputs": [
        {
          "output_type": "stream",
          "text": [
            "/content\n"
          ],
          "name": "stdout"
        }
      ]
    },
    {
      "cell_type": "code",
      "metadata": {
        "colab": {
          "base_uri": "https://localhost:8080/"
        },
        "id": "KPgceuBaXpqp",
        "outputId": "cd86da5d-e8e1-4cdd-cb46-bd26458ba788"
      },
      "source": [
        "%cd ..\n"
      ],
      "execution_count": 147,
      "outputs": [
        {
          "output_type": "stream",
          "text": [
            "/\n"
          ],
          "name": "stdout"
        }
      ]
    },
    {
      "cell_type": "code",
      "metadata": {
        "colab": {
          "base_uri": "https://localhost:8080/"
        },
        "id": "8ZjwM1UBXpx5",
        "outputId": "cc12f6b8-8612-4003-d10b-00ab4dd11808"
      },
      "source": [
        "cd content\n"
      ],
      "execution_count": 148,
      "outputs": [
        {
          "output_type": "stream",
          "text": [
            "/content\n"
          ],
          "name": "stdout"
        }
      ]
    },
    {
      "cell_type": "code",
      "metadata": {
        "id": "j-TBT8U5Xp5F"
      },
      "source": [
        "mkdir tmp\n"
      ],
      "execution_count": 149,
      "outputs": []
    },
    {
      "cell_type": "code",
      "metadata": {
        "colab": {
          "base_uri": "https://localhost:8080/"
        },
        "id": "luYadjTMXqAY",
        "outputId": "bf16f721-e86c-45e5-9966-e379027fb0ce"
      },
      "source": [
        "ls\n"
      ],
      "execution_count": 150,
      "outputs": [
        {
          "output_type": "stream",
          "text": [
            "\u001b[0m\u001b[01;34msample_data\u001b[0m/  \u001b[01;34mtmp\u001b[0m/\n"
          ],
          "name": "stdout"
        }
      ]
    },
    {
      "cell_type": "code",
      "metadata": {
        "colab": {
          "base_uri": "https://localhost:8080/"
        },
        "id": "EwdNhGGCXqH1",
        "outputId": "21c430d9-6af9-4eee-d49b-fd3ddbfd4e62"
      },
      "source": [
        "cp tmp/\n"
      ],
      "execution_count": 151,
      "outputs": [
        {
          "output_type": "stream",
          "text": [
            "cp: missing destination file operand after 'tmp/'\n",
            "Try 'cp --help' for more information.\n"
          ],
          "name": "stdout"
        }
      ]
    },
    {
      "cell_type": "code",
      "metadata": {
        "id": "NAe4gjARXqOl"
      },
      "source": [
        "ls tmp\n"
      ],
      "execution_count": 152,
      "outputs": []
    },
    {
      "cell_type": "code",
      "metadata": {
        "id": "lLiy3nUDXqVE"
      },
      "source": [
        "rm -r tmp"
      ],
      "execution_count": 153,
      "outputs": []
    }
  ]
}