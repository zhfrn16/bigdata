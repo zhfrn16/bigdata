{
  "nbformat": 4,
  "nbformat_minor": 0,
  "metadata": {
    "colab": {
      "name": "Untitled2.ipynb",
      "provenance": [],
      "authorship_tag": "ABX9TyOI+jT/UvPvyGicqOVYMFMe",
      "include_colab_link": true
    },
    "kernelspec": {
      "name": "python3",
      "display_name": "Python 3"
    },
    "language_info": {
      "name": "python"
    }
  },
  "cells": [
    {
      "cell_type": "markdown",
      "metadata": {
        "id": "view-in-github",
        "colab_type": "text"
      },
      "source": [
        "<a href=\"https://colab.research.google.com/github/zhfrn16/bigdata/blob/main/Latihan%20numpy.ipynb\" target=\"_parent\"><img src=\"https://colab.research.google.com/assets/colab-badge.svg\" alt=\"Open In Colab\"/></a>"
      ]
    },
    {
      "cell_type": "markdown",
      "metadata": {
        "id": "JP3DNTQK3cJk"
      },
      "source": [
        "**# NUMPY**\n",
        "\n",
        "melihat versi numpy"
      ]
    },
    {
      "cell_type": "code",
      "metadata": {
        "colab": {
          "base_uri": "https://localhost:8080/",
          "height": 35
        },
        "id": "GEFrFduu2_J_",
        "outputId": "240c9d31-fa6c-4d92-b10b-b732f4fc3b48"
      },
      "source": [
        "import numpy\n",
        "numpy.__version__"
      ],
      "execution_count": 3,
      "outputs": [
        {
          "output_type": "execute_result",
          "data": {
            "application/vnd.google.colaboratory.intrinsic+json": {
              "type": "string"
            },
            "text/plain": [
              "'1.19.5'"
            ]
          },
          "metadata": {
            "tags": []
          },
          "execution_count": 3
        }
      ]
    },
    {
      "cell_type": "code",
      "metadata": {
        "id": "OY_KtuQN3ska"
      },
      "source": [
        "import numpy as np"
      ],
      "execution_count": 4,
      "outputs": []
    },
    {
      "cell_type": "markdown",
      "metadata": {
        "id": "gurXR3Yk32hq"
      },
      "source": [
        "menampilkan dokumen bawaan numpy"
      ]
    },
    {
      "cell_type": "code",
      "metadata": {
        "id": "N7RLFwu83v4v"
      },
      "source": [
        "np?"
      ],
      "execution_count": 5,
      "outputs": []
    },
    {
      "cell_type": "code",
      "metadata": {
        "id": "GwK-OtHs3zay"
      },
      "source": [
        "result = 0\n",
        "for i in range(100):\n",
        " result += i"
      ],
      "execution_count": 6,
      "outputs": []
    },
    {
      "cell_type": "markdown",
      "metadata": {
        "id": "NPqfM60i4Amb"
      },
      "source": [
        "menampung multi elemen"
      ]
    },
    {
      "cell_type": "code",
      "metadata": {
        "colab": {
          "base_uri": "https://localhost:8080/"
        },
        "id": "6QO4KANd36ID",
        "outputId": "c0e907de-9eed-42ec-d232-f839e64d4202"
      },
      "source": [
        "L = list(range(10))\n",
        "L"
      ],
      "execution_count": 7,
      "outputs": [
        {
          "output_type": "execute_result",
          "data": {
            "text/plain": [
              "[0, 1, 2, 3, 4, 5, 6, 7, 8, 9]"
            ]
          },
          "metadata": {
            "tags": []
          },
          "execution_count": 7
        }
      ]
    },
    {
      "cell_type": "markdown",
      "metadata": {
        "id": "Dv0ZBFdQ4FEC"
      },
      "source": [
        "menampilkan tipe data"
      ]
    },
    {
      "cell_type": "code",
      "metadata": {
        "colab": {
          "base_uri": "https://localhost:8080/"
        },
        "id": "AFCUdeEp4DOa",
        "outputId": "4a5cbf12-240a-4472-805f-a04a27a32684"
      },
      "source": [
        "type(L[0])"
      ],
      "execution_count": 8,
      "outputs": [
        {
          "output_type": "execute_result",
          "data": {
            "text/plain": [
              "int"
            ]
          },
          "metadata": {
            "tags": []
          },
          "execution_count": 8
        }
      ]
    },
    {
      "cell_type": "markdown",
      "metadata": {
        "id": "2uQ0AdES4NfK"
      },
      "source": [
        "menampilkan list string"
      ]
    },
    {
      "cell_type": "code",
      "metadata": {
        "colab": {
          "base_uri": "https://localhost:8080/"
        },
        "id": "eHDlqsPp4Igz",
        "outputId": "e92a42e9-7571-432c-9ed9-54eedb4b7556"
      },
      "source": [
        "L2 = [str(c) for c in L]\n",
        "L2"
      ],
      "execution_count": 10,
      "outputs": [
        {
          "output_type": "execute_result",
          "data": {
            "text/plain": [
              "['0', '1', '2', '3', '4', '5', '6', '7', '8', '9']"
            ]
          },
          "metadata": {
            "tags": []
          },
          "execution_count": 10
        }
      ]
    },
    {
      "cell_type": "code",
      "metadata": {
        "colab": {
          "base_uri": "https://localhost:8080/"
        },
        "id": "8mHS9liV4QgC",
        "outputId": "970e8e0a-d516-44a0-cbef-af3ad280d791"
      },
      "source": [
        "type(L2[0])"
      ],
      "execution_count": 11,
      "outputs": [
        {
          "output_type": "execute_result",
          "data": {
            "text/plain": [
              "str"
            ]
          },
          "metadata": {
            "tags": []
          },
          "execution_count": 11
        }
      ]
    },
    {
      "cell_type": "markdown",
      "metadata": {
        "id": "nkwOFVjb4VZM"
      },
      "source": [
        "membuat daftar heterogen"
      ]
    },
    {
      "cell_type": "code",
      "metadata": {
        "colab": {
          "base_uri": "https://localhost:8080/"
        },
        "id": "PkMHxrq34XXj",
        "outputId": "4c3ee6fc-749b-4fc1-ee84-987ed017676b"
      },
      "source": [
        "L3 = [True, \"2\", 3.0, 4]\n",
        "[type(item) for item in L3]"
      ],
      "execution_count": 12,
      "outputs": [
        {
          "output_type": "execute_result",
          "data": {
            "text/plain": [
              "[bool, str, float, int]"
            ]
          },
          "metadata": {
            "tags": []
          },
          "execution_count": 12
        }
      ]
    },
    {
      "cell_type": "markdown",
      "metadata": {
        "id": "Fc7jsxDV4boF"
      },
      "source": [
        "membuat array"
      ]
    },
    {
      "cell_type": "code",
      "metadata": {
        "colab": {
          "base_uri": "https://localhost:8080/"
        },
        "id": "879mE0n-4af_",
        "outputId": "7d63a478-9661-47e0-c1bf-f94be967d9ef"
      },
      "source": [
        "import array\n",
        "L = list(range(10))\n",
        "A = array.array('i', L)\n",
        "A"
      ],
      "execution_count": 13,
      "outputs": [
        {
          "output_type": "execute_result",
          "data": {
            "text/plain": [
              "array('i', [0, 1, 2, 3, 4, 5, 6, 7, 8, 9])"
            ]
          },
          "metadata": {
            "tags": []
          },
          "execution_count": 13
        }
      ]
    },
    {
      "cell_type": "markdown",
      "metadata": {
        "id": "_GzUhc734hqy"
      },
      "source": [
        "membuat array list"
      ]
    },
    {
      "cell_type": "code",
      "metadata": {
        "colab": {
          "base_uri": "https://localhost:8080/"
        },
        "id": "KW57-D444dhq",
        "outputId": "e69df23b-4971-4836-efa3-10df7f884ecc"
      },
      "source": [
        "#integer array:\n",
        "np.array([1, 4, 2, 5, 3])"
      ],
      "execution_count": 14,
      "outputs": [
        {
          "output_type": "execute_result",
          "data": {
            "text/plain": [
              "array([1, 4, 2, 5, 3])"
            ]
          },
          "metadata": {
            "tags": []
          },
          "execution_count": 14
        }
      ]
    },
    {
      "cell_type": "code",
      "metadata": {
        "colab": {
          "base_uri": "https://localhost:8080/"
        },
        "id": "GcqaJiXw4jZT",
        "outputId": "1892925e-f872-4f96-d059-b5a29ec10c3e"
      },
      "source": [
        "np.array([3.14, 4, 2, 3])"
      ],
      "execution_count": 15,
      "outputs": [
        {
          "output_type": "execute_result",
          "data": {
            "text/plain": [
              "array([3.14, 4.  , 2.  , 3.  ])"
            ]
          },
          "metadata": {
            "tags": []
          },
          "execution_count": 15
        }
      ]
    },
    {
      "cell_type": "markdown",
      "metadata": {
        "id": "Ihocrsoj4vAK"
      },
      "source": [
        "mengatur tipe data dari array"
      ]
    },
    {
      "cell_type": "code",
      "metadata": {
        "colab": {
          "base_uri": "https://localhost:8080/"
        },
        "id": "8Ez2FDh34qCD",
        "outputId": "f09c430c-db1c-4bcb-e97c-c06b0b9db9ce"
      },
      "source": [
        "np.array([1, 2, 3, 4], dtype='float32')"
      ],
      "execution_count": 16,
      "outputs": [
        {
          "output_type": "execute_result",
          "data": {
            "text/plain": [
              "array([1., 2., 3., 4.], dtype=float32)"
            ]
          },
          "metadata": {
            "tags": []
          },
          "execution_count": 16
        }
      ]
    },
    {
      "cell_type": "code",
      "metadata": {
        "colab": {
          "base_uri": "https://localhost:8080/"
        },
        "id": "tZ86ofWx4rDT",
        "outputId": "7e57636f-43d8-4583-aef9-4262d2677c5b"
      },
      "source": [
        "#nested lists result in multidimensional arrays\n",
        "np.array([range(i, i + 3) for i in [2, 4, 6]])"
      ],
      "execution_count": 17,
      "outputs": [
        {
          "output_type": "execute_result",
          "data": {
            "text/plain": [
              "array([[2, 3, 4],\n",
              "       [4, 5, 6],\n",
              "       [6, 7, 8]])"
            ]
          },
          "metadata": {
            "tags": []
          },
          "execution_count": 17
        }
      ]
    },
    {
      "cell_type": "code",
      "metadata": {
        "colab": {
          "base_uri": "https://localhost:8080/"
        },
        "id": "OvY-6eFA4zl0",
        "outputId": "16326b44-f05d-42d2-cea7-794d40ca7545"
      },
      "source": [
        "#Membuat larik bilangan bulat 10 panjang yang diisi dengan nol \n",
        "np.zeros(10, dtype=int)"
      ],
      "execution_count": 18,
      "outputs": [
        {
          "output_type": "execute_result",
          "data": {
            "text/plain": [
              "array([0, 0, 0, 0, 0, 0, 0, 0, 0, 0])"
            ]
          },
          "metadata": {
            "tags": []
          },
          "execution_count": 18
        }
      ]
    },
    {
      "cell_type": "code",
      "metadata": {
        "colab": {
          "base_uri": "https://localhost:8080/"
        },
        "id": "1I32EHqI42P8",
        "outputId": "60b98a6e-2194-4116-ccb4-f0673d6d77bc"
      },
      "source": [
        "\n",
        "#Membuat array floating-point 3x5 yang diisi dengan 1s \n",
        "np.ones((3, 5), dtype=float)"
      ],
      "execution_count": 19,
      "outputs": [
        {
          "output_type": "execute_result",
          "data": {
            "text/plain": [
              "array([[1., 1., 1., 1., 1.],\n",
              "       [1., 1., 1., 1., 1.],\n",
              "       [1., 1., 1., 1., 1.]])"
            ]
          },
          "metadata": {
            "tags": []
          },
          "execution_count": 19
        }
      ]
    },
    {
      "cell_type": "code",
      "metadata": {
        "colab": {
          "base_uri": "https://localhost:8080/"
        },
        "id": "zLIgpYCR4956",
        "outputId": "1843dbef-115f-4acc-da9d-18528d74d115"
      },
      "source": [
        "#Membuat array 3x5 dengan isi 3.14\n",
        "np.full((3, 5), 3.14)"
      ],
      "execution_count": 20,
      "outputs": [
        {
          "output_type": "execute_result",
          "data": {
            "text/plain": [
              "array([[3.14, 3.14, 3.14, 3.14, 3.14],\n",
              "       [3.14, 3.14, 3.14, 3.14, 3.14],\n",
              "       [3.14, 3.14, 3.14, 3.14, 3.14]])"
            ]
          },
          "metadata": {
            "tags": []
          },
          "execution_count": 20
        }
      ]
    },
    {
      "cell_type": "code",
      "metadata": {
        "colab": {
          "base_uri": "https://localhost:8080/"
        },
        "id": "BzmpcSUt4-l7",
        "outputId": "f025e469-f5ba-46c7-b9de-beeef5649645"
      },
      "source": [
        "\n",
        "#Buat array yang diisi dengan urutan linier\n",
        "#Mulai dari 0, berakhir pada 20, step = 2\n",
        "#(ini mirip dengan fungsi range () bawaan) \n",
        "np.arange(0, 20, 2)"
      ],
      "execution_count": 21,
      "outputs": [
        {
          "output_type": "execute_result",
          "data": {
            "text/plain": [
              "array([ 0,  2,  4,  6,  8, 10, 12, 14, 16, 18])"
            ]
          },
          "metadata": {
            "tags": []
          },
          "execution_count": 21
        }
      ]
    },
    {
      "cell_type": "code",
      "metadata": {
        "colab": {
          "base_uri": "https://localhost:8080/"
        },
        "id": "WHhnvPZc5BLy",
        "outputId": "9d8b8c0f-6d8b-4738-d7ec-f272bb6e3260"
      },
      "source": [
        "#Membuat array dengan lima nilai yang jaraknya sama antara 0 dan 1 \n",
        "np.linspace(0, 1, 5)"
      ],
      "execution_count": 23,
      "outputs": [
        {
          "output_type": "execute_result",
          "data": {
            "text/plain": [
              "array([0.  , 0.25, 0.5 , 0.75, 1.  ])"
            ]
          },
          "metadata": {
            "tags": []
          },
          "execution_count": 23
        }
      ]
    },
    {
      "cell_type": "code",
      "metadata": {
        "colab": {
          "base_uri": "https://localhost:8080/"
        },
        "id": "T2QBljku5DnF",
        "outputId": "f30754c3-8286-405b-ebca-4c9c557b7f6b"
      },
      "source": [
        "#Membuat array 3x3 yang terdistribusi secara merata\n",
        "#nilai random dari 0 dan 1\n",
        "np.random.random((3, 3))"
      ],
      "execution_count": 24,
      "outputs": [
        {
          "output_type": "execute_result",
          "data": {
            "text/plain": [
              "array([[0.18075746, 0.19184898, 0.04931313],\n",
              "       [0.33339461, 0.52461271, 0.40793784],\n",
              "       [0.59230036, 0.1768412 , 0.62927571]])"
            ]
          },
          "metadata": {
            "tags": []
          },
          "execution_count": 24
        }
      ]
    },
    {
      "cell_type": "code",
      "metadata": {
        "colab": {
          "base_uri": "https://localhost:8080/"
        },
        "id": "qyI-XYru5Fkj",
        "outputId": "79423c3f-106f-4fd1-a87f-1c743c33fe3f"
      },
      "source": [
        "#Memuat array 3x3 dengan nilai acak yang terdistribusi normal\n",
        "#dengan mean 0 dan deviasi standar 1 \n",
        "np.random.normal(0, 1, (3, 3))"
      ],
      "execution_count": 25,
      "outputs": [
        {
          "output_type": "execute_result",
          "data": {
            "text/plain": [
              "array([[-0.74273298,  0.37472745,  0.76494383],\n",
              "       [-0.8603363 ,  0.36507162,  0.30936152],\n",
              "       [-0.27066321, -0.173892  ,  0.77279121]])"
            ]
          },
          "metadata": {
            "tags": []
          },
          "execution_count": 25
        }
      ]
    },
    {
      "cell_type": "code",
      "metadata": {
        "colab": {
          "base_uri": "https://localhost:8080/"
        },
        "id": "UZr5ospT5Hdr",
        "outputId": "94bce45e-e291-4650-e5f0-f3e7af2a7ed0"
      },
      "source": [
        "#Membuat array 3x3 dari bilangan bulat acak dalam interval [0, 10) \n",
        "np.random.randint(0, 10, (3, 3))"
      ],
      "execution_count": 26,
      "outputs": [
        {
          "output_type": "execute_result",
          "data": {
            "text/plain": [
              "array([[4, 9, 0],\n",
              "       [3, 8, 3],\n",
              "       [2, 1, 6]])"
            ]
          },
          "metadata": {
            "tags": []
          },
          "execution_count": 26
        }
      ]
    },
    {
      "cell_type": "code",
      "metadata": {
        "colab": {
          "base_uri": "https://localhost:8080/"
        },
        "id": "YK-jxzvs5JeK",
        "outputId": "719be9bd-c6cc-40bc-b8b0-f68b55582b55"
      },
      "source": [
        "#membuat matriks identitas 3x3\n",
        "np.eye(3)"
      ],
      "execution_count": 27,
      "outputs": [
        {
          "output_type": "execute_result",
          "data": {
            "text/plain": [
              "array([[1., 0., 0.],\n",
              "       [0., 1., 0.],\n",
              "       [0., 0., 1.]])"
            ]
          },
          "metadata": {
            "tags": []
          },
          "execution_count": 27
        }
      ]
    },
    {
      "cell_type": "code",
      "metadata": {
        "colab": {
          "base_uri": "https://localhost:8080/"
        },
        "id": "CrixkL_o5L0m",
        "outputId": "8b943c9c-460c-413e-ad14-0799620be7cb"
      },
      "source": [
        "#Membuat array tiga bilangan bulat yang tidak diinisialisasi\n",
        "#Nilai akan menjadi apa pun yang terjadi sudah ada pada saat itu\n",
        "#lokasi memori \n",
        "np.empty(3)"
      ],
      "execution_count": 28,
      "outputs": [
        {
          "output_type": "execute_result",
          "data": {
            "text/plain": [
              "array([1., 1., 1.])"
            ]
          },
          "metadata": {
            "tags": []
          },
          "execution_count": 28
        }
      ]
    },
    {
      "cell_type": "code",
      "metadata": {
        "colab": {
          "base_uri": "https://localhost:8080/"
        },
        "id": "9zCcZZ165Nc0",
        "outputId": "35511b9a-8d17-42a1-ddd7-1668f0ead7af"
      },
      "source": [
        "#String\n",
        "np.zeros(10, dtype='int16')"
      ],
      "execution_count": 29,
      "outputs": [
        {
          "output_type": "execute_result",
          "data": {
            "text/plain": [
              "array([0, 0, 0, 0, 0, 0, 0, 0, 0, 0], dtype=int16)"
            ]
          },
          "metadata": {
            "tags": []
          },
          "execution_count": 29
        }
      ]
    },
    {
      "cell_type": "code",
      "metadata": {
        "colab": {
          "base_uri": "https://localhost:8080/"
        },
        "id": "mQ0JQhFi5PI8",
        "outputId": "e014629f-2f85-4b43-e843-061573e35d99"
      },
      "source": [
        "#associated numpy object\n",
        "np.zeros(10, dtype=np.int16)"
      ],
      "execution_count": 30,
      "outputs": [
        {
          "output_type": "execute_result",
          "data": {
            "text/plain": [
              "array([0, 0, 0, 0, 0, 0, 0, 0, 0, 0], dtype=int16)"
            ]
          },
          "metadata": {
            "tags": []
          },
          "execution_count": 30
        }
      ]
    },
    {
      "cell_type": "markdown",
      "metadata": {
        "id": "uGVnAE925YCD"
      },
      "source": [
        "menggunakan Generator nomor acak NumPy, yang akan kita seed dengan nilai yang ditetapkan untuk memastikan bahwa array acak yang sama dibuat setiap kali kode ini dijalankan"
      ]
    },
    {
      "cell_type": "code",
      "metadata": {
        "id": "YSOEym-M5RAt"
      },
      "source": [
        "import numpy as np\n",
        "np.random.seed(0) #seed for reproducibility\n",
        "x1 = np.random.randint(10, size=6) # One-dimensional array\n",
        "x2 = np.random.randint(10, size=(3, 4)) # Two-dimensional array\n",
        "x3 = np.random.randint(10, size=(3, 4, 5)) # Three-dimensional array"
      ],
      "execution_count": 32,
      "outputs": []
    },
    {
      "cell_type": "code",
      "metadata": {
        "id": "3Myk_VLM5Z_c"
      },
      "source": [
        "import numpy as np\n",
        "np.random.seed(0) #seed for reproducibility\n",
        "x1 = np.random.randint(10, size=6) # One-dimensional array\n",
        "x2 = np.random.randint(10, size=(3, 4)) # Two-dimensional array\n",
        "x3 = np.random.randint(10, size=(3, 4, 5)) # Three-dimensional array"
      ],
      "execution_count": 38,
      "outputs": []
    },
    {
      "cell_type": "code",
      "metadata": {
        "colab": {
          "base_uri": "https://localhost:8080/"
        },
        "id": "0Kk62h0U5cqH",
        "outputId": "98feb80b-401e-4b53-beec-894b6d1a2dd1"
      },
      "source": [
        "print(\"x3 ndim: \", x3.ndim)\n",
        "print(\"x3 shape:\", x3.shape)\n",
        "print(\"x3 size: \", x3.size)"
      ],
      "execution_count": 34,
      "outputs": [
        {
          "output_type": "stream",
          "text": [
            "x3 ndim:  3\n",
            "x3 shape: (3, 4, 5)\n",
            "x3 size:  60\n"
          ],
          "name": "stdout"
        }
      ]
    },
    {
      "cell_type": "code",
      "metadata": {
        "colab": {
          "base_uri": "https://localhost:8080/"
        },
        "id": "VtL0mXi95eXE",
        "outputId": "01678fa8-a6cb-4154-9aba-b27ef67604af"
      },
      "source": [
        "\n",
        "#atribut dtype\n",
        "print(\"dtype:\", x3.dtype)"
      ],
      "execution_count": 35,
      "outputs": [
        {
          "output_type": "stream",
          "text": [
            "dtype: int64\n"
          ],
          "name": "stdout"
        }
      ]
    },
    {
      "cell_type": "code",
      "metadata": {
        "colab": {
          "base_uri": "https://localhost:8080/"
        },
        "id": "IzoNMTS85hb7",
        "outputId": "07381849-74df-442e-c9c8-0d41344e3507"
      },
      "source": [
        "print(\"itemsize:\", x3.itemsize, \"bytes\")\n",
        "print(\"nbytes:\", x3.nbytes, \"bytes\")"
      ],
      "execution_count": 36,
      "outputs": [
        {
          "output_type": "stream",
          "text": [
            "itemsize: 8 bytes\n",
            "nbytes: 480 bytes\n"
          ],
          "name": "stdout"
        }
      ]
    },
    {
      "cell_type": "markdown",
      "metadata": {
        "id": "tgecZsnG5nYl"
      },
      "source": [
        "Dalam array satu dimensi, Anda dapat mengakses dengan menentukan indeks yang diinginkan dalam tanda kurung siku"
      ]
    },
    {
      "cell_type": "code",
      "metadata": {
        "colab": {
          "base_uri": "https://localhost:8080/"
        },
        "id": "g7fXg1gN5j71",
        "outputId": "1c296126-bb7d-4348-a139-9bfb022bbf90"
      },
      "source": [
        "x1"
      ],
      "execution_count": 37,
      "outputs": [
        {
          "output_type": "execute_result",
          "data": {
            "text/plain": [
              "array([5, 0, 3, 3, 7, 9])"
            ]
          },
          "metadata": {
            "tags": []
          },
          "execution_count": 37
        }
      ]
    },
    {
      "cell_type": "code",
      "metadata": {
        "colab": {
          "base_uri": "https://localhost:8080/"
        },
        "id": "M1YpSTnY5pgJ",
        "outputId": "93c8547b-5a96-4521-aa99-d3aa54855fcc"
      },
      "source": [
        "x1[0]"
      ],
      "execution_count": 39,
      "outputs": [
        {
          "output_type": "execute_result",
          "data": {
            "text/plain": [
              "5"
            ]
          },
          "metadata": {
            "tags": []
          },
          "execution_count": 39
        }
      ]
    },
    {
      "cell_type": "code",
      "metadata": {
        "colab": {
          "base_uri": "https://localhost:8080/"
        },
        "id": "TNawNbCz5sJc",
        "outputId": "c84b4360-9b1d-4b45-91ff-f7da39127aba"
      },
      "source": [
        "x1[4]"
      ],
      "execution_count": 40,
      "outputs": [
        {
          "output_type": "execute_result",
          "data": {
            "text/plain": [
              "7"
            ]
          },
          "metadata": {
            "tags": []
          },
          "execution_count": 40
        }
      ]
    },
    {
      "cell_type": "code",
      "metadata": {
        "colab": {
          "base_uri": "https://localhost:8080/"
        },
        "id": "MveJ40Ia5tfb",
        "outputId": "23d27a7f-16c5-427f-a77f-ce19cd9c889d"
      },
      "source": [
        "#Untuks pengindeksan dari akhir array gunakan -\n",
        "x1[-1]"
      ],
      "execution_count": 41,
      "outputs": [
        {
          "output_type": "execute_result",
          "data": {
            "text/plain": [
              "9"
            ]
          },
          "metadata": {
            "tags": []
          },
          "execution_count": 41
        }
      ]
    },
    {
      "cell_type": "code",
      "metadata": {
        "colab": {
          "base_uri": "https://localhost:8080/"
        },
        "id": "ghGwMihm5u7O",
        "outputId": "ccf490d9-10e4-4fe6-e1ff-3bb2fea0d99e"
      },
      "source": [
        "\n",
        "x1[-2]"
      ],
      "execution_count": 42,
      "outputs": [
        {
          "output_type": "execute_result",
          "data": {
            "text/plain": [
              "7"
            ]
          },
          "metadata": {
            "tags": []
          },
          "execution_count": 42
        }
      ]
    },
    {
      "cell_type": "markdown",
      "metadata": {
        "id": "o4rcWdUB524z"
      },
      "source": [
        "\n",
        "Dalam array multidimensi, Kita mengakses item menggunakan tupel yang dipisahkan koma dari indeks:"
      ]
    },
    {
      "cell_type": "code",
      "metadata": {
        "colab": {
          "base_uri": "https://localhost:8080/"
        },
        "id": "tV46IIlV5xJM",
        "outputId": "b707e91f-0c77-42f7-cf83-f6c22c109c92"
      },
      "source": [
        "x2"
      ],
      "execution_count": 43,
      "outputs": [
        {
          "output_type": "execute_result",
          "data": {
            "text/plain": [
              "array([[3, 5, 2, 4],\n",
              "       [7, 6, 8, 8],\n",
              "       [1, 6, 7, 7]])"
            ]
          },
          "metadata": {
            "tags": []
          },
          "execution_count": 43
        }
      ]
    },
    {
      "cell_type": "code",
      "metadata": {
        "colab": {
          "base_uri": "https://localhost:8080/"
        },
        "id": "xhRQR6pq5zk8",
        "outputId": "8f67b772-bf14-49ed-df86-bbeb27e78b1d"
      },
      "source": [
        "\n",
        "x2[0, 0]"
      ],
      "execution_count": 44,
      "outputs": [
        {
          "output_type": "execute_result",
          "data": {
            "text/plain": [
              "3"
            ]
          },
          "metadata": {
            "tags": []
          },
          "execution_count": 44
        }
      ]
    },
    {
      "cell_type": "code",
      "metadata": {
        "colab": {
          "base_uri": "https://localhost:8080/"
        },
        "id": "xPGCLv9Z56QX",
        "outputId": "aae9afe2-f4f0-4e8e-8a46-08b7065a38cb"
      },
      "source": [
        "x2[2, 0]"
      ],
      "execution_count": 45,
      "outputs": [
        {
          "output_type": "execute_result",
          "data": {
            "text/plain": [
              "1"
            ]
          },
          "metadata": {
            "tags": []
          },
          "execution_count": 45
        }
      ]
    },
    {
      "cell_type": "code",
      "metadata": {
        "colab": {
          "base_uri": "https://localhost:8080/"
        },
        "id": "e1sZa3Kc579I",
        "outputId": "e1a51ad3-a3a4-4854-8664-7d407c6852a4"
      },
      "source": [
        "x2[2, -1]"
      ],
      "execution_count": 46,
      "outputs": [
        {
          "output_type": "execute_result",
          "data": {
            "text/plain": [
              "7"
            ]
          },
          "metadata": {
            "tags": []
          },
          "execution_count": 46
        }
      ]
    },
    {
      "cell_type": "markdown",
      "metadata": {
        "id": "nG9_SCmF6CQd"
      },
      "source": [
        "mengubah nilai menggunakan salah satu notasi indeks di atas"
      ]
    },
    {
      "cell_type": "code",
      "metadata": {
        "colab": {
          "base_uri": "https://localhost:8080/"
        },
        "id": "U58HLo5l59ZF",
        "outputId": "049a1a60-4213-49f0-8ee1-439fed1b376a"
      },
      "source": [
        "x2[0, 0] = 12\n",
        "x2"
      ],
      "execution_count": 49,
      "outputs": [
        {
          "output_type": "execute_result",
          "data": {
            "text/plain": [
              "array([[12,  5,  2,  4],\n",
              "       [ 7,  6,  8,  8],\n",
              "       [ 1,  6,  7,  7]])"
            ]
          },
          "metadata": {
            "tags": []
          },
          "execution_count": 49
        }
      ]
    },
    {
      "cell_type": "code",
      "metadata": {
        "colab": {
          "base_uri": "https://localhost:8080/"
        },
        "id": "gEBI7mYc5_q_",
        "outputId": "d2e1420d-10fe-484f-e987-0614ce11e5a9"
      },
      "source": [
        "x1[0] = 3.14159 # this will be truncated!\n",
        "x1"
      ],
      "execution_count": 50,
      "outputs": [
        {
          "output_type": "execute_result",
          "data": {
            "text/plain": [
              "array([3, 0, 3, 3, 7, 9])"
            ]
          },
          "metadata": {
            "tags": []
          },
          "execution_count": 50
        }
      ]
    },
    {
      "cell_type": "code",
      "metadata": {
        "colab": {
          "base_uri": "https://localhost:8080/"
        },
        "id": "m5Ouez7l6Hym",
        "outputId": "7423ee48-b3e2-41c2-f978-8defb87c7424"
      },
      "source": [
        "x = np.arange(10)\n",
        "x"
      ],
      "execution_count": 51,
      "outputs": [
        {
          "output_type": "execute_result",
          "data": {
            "text/plain": [
              "array([0, 1, 2, 3, 4, 5, 6, 7, 8, 9])"
            ]
          },
          "metadata": {
            "tags": []
          },
          "execution_count": 51
        }
      ]
    },
    {
      "cell_type": "code",
      "metadata": {
        "colab": {
          "base_uri": "https://localhost:8080/"
        },
        "id": "Awz-kjkM6JMT",
        "outputId": "0b4121d6-3d11-4776-9975-a1b998417ed8"
      },
      "source": [
        "x[:5] # first five elements"
      ],
      "execution_count": 52,
      "outputs": [
        {
          "output_type": "execute_result",
          "data": {
            "text/plain": [
              "array([0, 1, 2, 3, 4])"
            ]
          },
          "metadata": {
            "tags": []
          },
          "execution_count": 52
        }
      ]
    },
    {
      "cell_type": "code",
      "metadata": {
        "colab": {
          "base_uri": "https://localhost:8080/"
        },
        "id": "1OokG7Wn6K8k",
        "outputId": "a536ecef-6dff-4677-8b55-b3be43e6fccf"
      },
      "source": [
        "x[5:] # elements after index 5"
      ],
      "execution_count": 53,
      "outputs": [
        {
          "output_type": "execute_result",
          "data": {
            "text/plain": [
              "array([5, 6, 7, 8, 9])"
            ]
          },
          "metadata": {
            "tags": []
          },
          "execution_count": 53
        }
      ]
    },
    {
      "cell_type": "code",
      "metadata": {
        "colab": {
          "base_uri": "https://localhost:8080/"
        },
        "id": "I2vB2J-X6MpX",
        "outputId": "7c55f004-5e8e-4c0b-8ae2-7ef70ab0b153"
      },
      "source": [
        "x[4:7] # middle subarray"
      ],
      "execution_count": 54,
      "outputs": [
        {
          "output_type": "execute_result",
          "data": {
            "text/plain": [
              "array([4, 5, 6])"
            ]
          },
          "metadata": {
            "tags": []
          },
          "execution_count": 54
        }
      ]
    },
    {
      "cell_type": "code",
      "metadata": {
        "colab": {
          "base_uri": "https://localhost:8080/"
        },
        "id": "mbJWFhOG6OJ-",
        "outputId": "9becf0b7-5f00-4e0d-d43e-13864c54e3a1"
      },
      "source": [
        "x[::2] # every other element"
      ],
      "execution_count": 55,
      "outputs": [
        {
          "output_type": "execute_result",
          "data": {
            "text/plain": [
              "array([0, 2, 4, 6, 8])"
            ]
          },
          "metadata": {
            "tags": []
          },
          "execution_count": 55
        }
      ]
    },
    {
      "cell_type": "code",
      "metadata": {
        "colab": {
          "base_uri": "https://localhost:8080/"
        },
        "id": "ATnQ-wbC6RIU",
        "outputId": "f5411fd5-fc77-4202-bcf5-fcc50ae99ce0"
      },
      "source": [
        "x[1::2] # every other element, starting at index 1"
      ],
      "execution_count": 56,
      "outputs": [
        {
          "output_type": "execute_result",
          "data": {
            "text/plain": [
              "array([1, 3, 5, 7, 9])"
            ]
          },
          "metadata": {
            "tags": []
          },
          "execution_count": 56
        }
      ]
    },
    {
      "cell_type": "code",
      "metadata": {
        "colab": {
          "base_uri": "https://localhost:8080/"
        },
        "id": "bcY_3VO46R0U",
        "outputId": "1993bbbf-369e-4b21-feb1-00e897e76f5c"
      },
      "source": [
        "x[::-1] # all elements, reversed"
      ],
      "execution_count": 57,
      "outputs": [
        {
          "output_type": "execute_result",
          "data": {
            "text/plain": [
              "array([9, 8, 7, 6, 5, 4, 3, 2, 1, 0])"
            ]
          },
          "metadata": {
            "tags": []
          },
          "execution_count": 57
        }
      ]
    },
    {
      "cell_type": "code",
      "metadata": {
        "colab": {
          "base_uri": "https://localhost:8080/"
        },
        "id": "C2DyYduB6S6t",
        "outputId": "7a32bd30-bec2-4754-da43-8ab0d8d7239a"
      },
      "source": [
        "\n",
        "x[5::-2] # reversed every other from index 5"
      ],
      "execution_count": 58,
      "outputs": [
        {
          "output_type": "execute_result",
          "data": {
            "text/plain": [
              "array([5, 3, 1])"
            ]
          },
          "metadata": {
            "tags": []
          },
          "execution_count": 58
        }
      ]
    },
    {
      "cell_type": "markdown",
      "metadata": {
        "id": "NwHXy_0e6Xvc"
      },
      "source": [
        "multidimensi subarray"
      ]
    },
    {
      "cell_type": "code",
      "metadata": {
        "colab": {
          "base_uri": "https://localhost:8080/"
        },
        "id": "9Pgt8NAp6VOp",
        "outputId": "81b52c35-4a22-41bb-e62d-eeef401f36fc"
      },
      "source": [
        "x2"
      ],
      "execution_count": 59,
      "outputs": [
        {
          "output_type": "execute_result",
          "data": {
            "text/plain": [
              "array([[12,  5,  2,  4],\n",
              "       [ 7,  6,  8,  8],\n",
              "       [ 1,  6,  7,  7]])"
            ]
          },
          "metadata": {
            "tags": []
          },
          "execution_count": 59
        }
      ]
    },
    {
      "cell_type": "code",
      "metadata": {
        "colab": {
          "base_uri": "https://localhost:8080/"
        },
        "id": "WHmOUkPN6aCl",
        "outputId": "ac5f5799-5332-46db-b602-d99ee1bf41ae"
      },
      "source": [
        "x2[:2, :3] # two rows, three columns"
      ],
      "execution_count": 60,
      "outputs": [
        {
          "output_type": "execute_result",
          "data": {
            "text/plain": [
              "array([[12,  5,  2],\n",
              "       [ 7,  6,  8]])"
            ]
          },
          "metadata": {
            "tags": []
          },
          "execution_count": 60
        }
      ]
    },
    {
      "cell_type": "code",
      "metadata": {
        "colab": {
          "base_uri": "https://localhost:8080/"
        },
        "id": "ipkGlNmo6b0I",
        "outputId": "db9c7c43-fa38-4231-b165-b3c738f5c746"
      },
      "source": [
        "x2[:3, ::2] # all rows, every other column"
      ],
      "execution_count": 61,
      "outputs": [
        {
          "output_type": "execute_result",
          "data": {
            "text/plain": [
              "array([[12,  2],\n",
              "       [ 7,  8],\n",
              "       [ 1,  7]])"
            ]
          },
          "metadata": {
            "tags": []
          },
          "execution_count": 61
        }
      ]
    },
    {
      "cell_type": "code",
      "metadata": {
        "colab": {
          "base_uri": "https://localhost:8080/"
        },
        "id": "XoU-HeGw6ig9",
        "outputId": "c8f6c9e9-5de9-481d-ffba-98f7bbc5e97a"
      },
      "source": [
        "#dimensi subarray bahkan dapat dibalik bersama: \n",
        "x2[::-1, ::-1]"
      ],
      "execution_count": 62,
      "outputs": [
        {
          "output_type": "execute_result",
          "data": {
            "text/plain": [
              "array([[ 7,  7,  6,  1],\n",
              "       [ 8,  8,  6,  7],\n",
              "       [ 4,  2,  5, 12]])"
            ]
          },
          "metadata": {
            "tags": []
          },
          "execution_count": 62
        }
      ]
    },
    {
      "cell_type": "markdown",
      "metadata": {
        "id": "oopOcRh96mqV"
      },
      "source": [
        "\n",
        "Untuk mengakses single baris atau kolom dari sebuah array.Kita dapat melakukan ini dengan menggabungkan pengindeksan dan slicing, menggunakan slice kosong yang ditandai dengan satu titik dua (:):"
      ]
    },
    {
      "cell_type": "code",
      "metadata": {
        "colab": {
          "base_uri": "https://localhost:8080/"
        },
        "id": "4oYM2GgO6n8Z",
        "outputId": "79ecf1f5-d240-4344-f1bb-cfd78d91b3c5"
      },
      "source": [
        "print(x2[:, 0]) # first column of x2"
      ],
      "execution_count": 63,
      "outputs": [
        {
          "output_type": "stream",
          "text": [
            "[12  7  1]\n"
          ],
          "name": "stdout"
        }
      ]
    },
    {
      "cell_type": "code",
      "metadata": {
        "colab": {
          "base_uri": "https://localhost:8080/"
        },
        "id": "rFOhqywM6pQX",
        "outputId": "d85da764-7de9-4e5b-e7dc-6fc73cba9d72"
      },
      "source": [
        "print(x2[0, :]) # first row of x2"
      ],
      "execution_count": 64,
      "outputs": [
        {
          "output_type": "stream",
          "text": [
            "[12  5  2  4]\n"
          ],
          "name": "stdout"
        }
      ]
    },
    {
      "cell_type": "code",
      "metadata": {
        "colab": {
          "base_uri": "https://localhost:8080/"
        },
        "id": "60tpC11J6q0c",
        "outputId": "49eae9b5-1c19-4078-cfda-870d8e9f7a11"
      },
      "source": [
        "#dalam kasus akses rroq, slice kosong dapat dihilangkan untuk sintaks yang lebih ringkas:\n",
        "print(x2[0]) # equivalent to x2[0, :]"
      ],
      "execution_count": 65,
      "outputs": [
        {
          "output_type": "stream",
          "text": [
            "[12  5  2  4]\n"
          ],
          "name": "stdout"
        }
      ]
    },
    {
      "cell_type": "code",
      "metadata": {
        "colab": {
          "base_uri": "https://localhost:8080/"
        },
        "id": "UkPukjBN6tmG",
        "outputId": "362c006d-6037-4e61-f9cf-e53d04abeea5"
      },
      "source": [
        "print(x2)"
      ],
      "execution_count": 66,
      "outputs": [
        {
          "output_type": "stream",
          "text": [
            "[[12  5  2  4]\n",
            " [ 7  6  8  8]\n",
            " [ 1  6  7  7]]\n"
          ],
          "name": "stdout"
        }
      ]
    },
    {
      "cell_type": "code",
      "metadata": {
        "colab": {
          "base_uri": "https://localhost:8080/"
        },
        "id": "zvOTzBVS6uC5",
        "outputId": "58f2699e-9e4e-416b-f484-cc6c2949fe41"
      },
      "source": [
        "x2_sub = x2[:2, :2]\n",
        "print(x2_sub)"
      ],
      "execution_count": 68,
      "outputs": [
        {
          "output_type": "stream",
          "text": [
            "[[12  5]\n",
            " [ 7  6]]\n"
          ],
          "name": "stdout"
        }
      ]
    },
    {
      "cell_type": "code",
      "metadata": {
        "colab": {
          "base_uri": "https://localhost:8080/"
        },
        "id": "ZAbqDAdb6vQm",
        "outputId": "03a4b29b-baad-43fa-cd74-19ff8e958ce7"
      },
      "source": [
        "x2_sub[0, 0] = 99\n",
        "print(x2_sub)"
      ],
      "execution_count": 69,
      "outputs": [
        {
          "output_type": "stream",
          "text": [
            "[[99  5]\n",
            " [ 7  6]]\n"
          ],
          "name": "stdout"
        }
      ]
    },
    {
      "cell_type": "code",
      "metadata": {
        "colab": {
          "base_uri": "https://localhost:8080/"
        },
        "id": "Uo3Ahz2E6yAS",
        "outputId": "65a21572-349b-404e-8496-efe55c909281"
      },
      "source": [
        "print(x2)"
      ],
      "execution_count": 70,
      "outputs": [
        {
          "output_type": "stream",
          "text": [
            "[[99  5  2  4]\n",
            " [ 7  6  8  8]\n",
            " [ 1  6  7  7]]\n"
          ],
          "name": "stdout"
        }
      ]
    },
    {
      "cell_type": "code",
      "metadata": {
        "colab": {
          "base_uri": "https://localhost:8080/"
        },
        "id": "HbFMDHL46zy5",
        "outputId": "e1b97c2a-3faa-4ca1-ac52-a4bc9e819924"
      },
      "source": [
        "x2_sub_copy = x2[:2, :2].copy()\n",
        "print(x2_sub_copy)"
      ],
      "execution_count": 72,
      "outputs": [
        {
          "output_type": "stream",
          "text": [
            "[[99  5]\n",
            " [ 7  6]]\n"
          ],
          "name": "stdout"
        }
      ]
    },
    {
      "cell_type": "code",
      "metadata": {
        "colab": {
          "base_uri": "https://localhost:8080/"
        },
        "id": "-Lrq4vNP61Wn",
        "outputId": "5e358aef-02df-45a2-817c-5c66a157ea7e"
      },
      "source": [
        "x2_sub_copy[0, 0] = 42\n",
        "print(x2_sub_copy)"
      ],
      "execution_count": 74,
      "outputs": [
        {
          "output_type": "stream",
          "text": [
            "[[42  5]\n",
            " [ 7  6]]\n"
          ],
          "name": "stdout"
        }
      ]
    },
    {
      "cell_type": "code",
      "metadata": {
        "colab": {
          "base_uri": "https://localhost:8080/"
        },
        "id": "likvx0Yj64Qr",
        "outputId": "eff0dfce-7019-43c9-8221-16323037b13a"
      },
      "source": [
        "\n",
        "print(x2)"
      ],
      "execution_count": 75,
      "outputs": [
        {
          "output_type": "stream",
          "text": [
            "[[99  5  2  4]\n",
            " [ 7  6  8  8]\n",
            " [ 1  6  7  7]]\n"
          ],
          "name": "stdout"
        }
      ]
    },
    {
      "cell_type": "markdown",
      "metadata": {
        "id": "YTjYDRIF675P"
      },
      "source": [
        "Jenis operasi lain yang berguna adalah pembentukan kembali array. Cara paling fleksibel dari melakukan ini dengan metode reshape (). Misalnya, jika ingin meletakkan nomor bers 1 hingga 9 dalam kisi 3 × 3, Kita dapat melakukan hal berikut:"
      ]
    },
    {
      "cell_type": "code",
      "metadata": {
        "colab": {
          "base_uri": "https://localhost:8080/"
        },
        "id": "aL0Wirha69p4",
        "outputId": "fa410544-b837-44ce-ac8c-6fcdfd43da0a"
      },
      "source": [
        "grid = np.arange(1, 10).reshape((3, 3))\n",
        "print(grid)"
      ],
      "execution_count": 76,
      "outputs": [
        {
          "output_type": "stream",
          "text": [
            "[[1 2 3]\n",
            " [4 5 6]\n",
            " [7 8 9]]\n"
          ],
          "name": "stdout"
        }
      ]
    },
    {
      "cell_type": "code",
      "metadata": {
        "colab": {
          "base_uri": "https://localhost:8080/"
        },
        "id": "BtS0NzWV7AaX",
        "outputId": "1465ae79-7c31-4be5-d30c-e0ab331a1ad6"
      },
      "source": [
        "\n",
        "x = np.array([1, 2, 3])\n",
        " # row vector via reshape\n",
        "x.reshape((1, 3))"
      ],
      "execution_count": 78,
      "outputs": [
        {
          "output_type": "execute_result",
          "data": {
            "text/plain": [
              "array([[1, 2, 3]])"
            ]
          },
          "metadata": {
            "tags": []
          },
          "execution_count": 78
        }
      ]
    },
    {
      "cell_type": "code",
      "metadata": {
        "colab": {
          "base_uri": "https://localhost:8080/"
        },
        "id": "ZVK9sErY7DX5",
        "outputId": "51e44172-4812-4385-ef22-47694fcaee36"
      },
      "source": [
        "#row vector via newaxis\n",
        "x[np.newaxis, :]"
      ],
      "execution_count": 79,
      "outputs": [
        {
          "output_type": "execute_result",
          "data": {
            "text/plain": [
              "array([[1, 2, 3]])"
            ]
          },
          "metadata": {
            "tags": []
          },
          "execution_count": 79
        }
      ]
    },
    {
      "cell_type": "code",
      "metadata": {
        "colab": {
          "base_uri": "https://localhost:8080/"
        },
        "id": "YTKNnAV97E-c",
        "outputId": "7e7b71a4-d097-4993-a05e-f829cbe7e35e"
      },
      "source": [
        "\n",
        "# column vector via reshape\n",
        "x.reshape((3, 1))"
      ],
      "execution_count": 80,
      "outputs": [
        {
          "output_type": "execute_result",
          "data": {
            "text/plain": [
              "array([[1],\n",
              "       [2],\n",
              "       [3]])"
            ]
          },
          "metadata": {
            "tags": []
          },
          "execution_count": 80
        }
      ]
    },
    {
      "cell_type": "code",
      "metadata": {
        "colab": {
          "base_uri": "https://localhost:8080/"
        },
        "id": "wZtAslHG7GgG",
        "outputId": "9779fdbe-9c4e-4e42-a51c-ef530e9fe176"
      },
      "source": [
        "# column vector via newaxis\n",
        "x[:, np.newaxis]"
      ],
      "execution_count": 81,
      "outputs": [
        {
          "output_type": "execute_result",
          "data": {
            "text/plain": [
              "array([[1],\n",
              "       [2],\n",
              "       [3]])"
            ]
          },
          "metadata": {
            "tags": []
          },
          "execution_count": 81
        }
      ]
    },
    {
      "cell_type": "markdown",
      "metadata": {
        "id": "X5wu9WJp7LN4"
      },
      "source": [
        "**Array Concatenation and Splitting**\n",
        "\n",
        "Menggabungkan beberapa array menjadi satu, dan sebaliknya membagi satu array menjadi beberapa array.\n",
        "\n",
        "**Concatenation of arrays**\n",
        "\n",
        "Penggabungan, atau penggabungan dua array di NumPy, dilakukan terutama melalui rutinitas np.concatenate, np.vstack, dan np.hstack. np.concatenate mengambil tupel atau daftar array sebagai argumen pertamanya"
      ]
    },
    {
      "cell_type": "code",
      "metadata": {
        "colab": {
          "base_uri": "https://localhost:8080/"
        },
        "id": "BwEFjizm7Mw2",
        "outputId": "8d100717-c993-42fe-f425-f49c4b3c2d8b"
      },
      "source": [
        "x = np.array([1, 2, 3])\n",
        "y = np.array([3, 2, 1])\n",
        "np.concatenate([x, y])"
      ],
      "execution_count": 82,
      "outputs": [
        {
          "output_type": "execute_result",
          "data": {
            "text/plain": [
              "array([1, 2, 3, 3, 2, 1])"
            ]
          },
          "metadata": {
            "tags": []
          },
          "execution_count": 82
        }
      ]
    },
    {
      "cell_type": "code",
      "metadata": {
        "colab": {
          "base_uri": "https://localhost:8080/"
        },
        "id": "DwaTSQhz7TUY",
        "outputId": "32c90be3-fdbf-430c-bdca-8442bf072328"
      },
      "source": [
        "\n",
        "#menggabungkan lebih dari dua array sekaligus\n",
        "z = [99, 99, 99]\n",
        "print(np.concatenate([x, y, z]))"
      ],
      "execution_count": 83,
      "outputs": [
        {
          "output_type": "stream",
          "text": [
            "[ 1  2  3  3  2  1 99 99 99]\n"
          ],
          "name": "stdout"
        }
      ]
    },
    {
      "cell_type": "code",
      "metadata": {
        "id": "rpg65UFI7VDm"
      },
      "source": [
        "\n",
        "grid = np.array([[1, 2, 3],[4, 5, 6]])"
      ],
      "execution_count": 84,
      "outputs": []
    },
    {
      "cell_type": "code",
      "metadata": {
        "colab": {
          "base_uri": "https://localhost:8080/"
        },
        "id": "DiL24wgo7Vpp",
        "outputId": "467a2da6-8b1d-4fe0-9ad0-355bd866ced1"
      },
      "source": [
        "# concatenate along the first axis\n",
        "np.concatenate([grid, grid])"
      ],
      "execution_count": 85,
      "outputs": [
        {
          "output_type": "execute_result",
          "data": {
            "text/plain": [
              "array([[1, 2, 3],\n",
              "       [4, 5, 6],\n",
              "       [1, 2, 3],\n",
              "       [4, 5, 6]])"
            ]
          },
          "metadata": {
            "tags": []
          },
          "execution_count": 85
        }
      ]
    },
    {
      "cell_type": "code",
      "metadata": {
        "colab": {
          "base_uri": "https://localhost:8080/"
        },
        "id": "FvxO0tMN7XPY",
        "outputId": "dfea5524-952a-4cf3-9a91-300d1206ac42"
      },
      "source": [
        "# concatenate along the second axis (zero-indexed)\n",
        "np.concatenate([grid, grid], axis=1)"
      ],
      "execution_count": 86,
      "outputs": [
        {
          "output_type": "execute_result",
          "data": {
            "text/plain": [
              "array([[1, 2, 3, 1, 2, 3],\n",
              "       [4, 5, 6, 4, 5, 6]])"
            ]
          },
          "metadata": {
            "tags": []
          },
          "execution_count": 86
        }
      ]
    },
    {
      "cell_type": "code",
      "metadata": {
        "colab": {
          "base_uri": "https://localhost:8080/"
        },
        "id": "8fv8LSLx7ZDC",
        "outputId": "134cec9e-ba7d-439b-b9bf-df4b96511e20"
      },
      "source": [
        "x = np.array([1, 2, 3])\n",
        "grid = np.array([[9, 8, 7],[6, 5, 4]])\n",
        "# vertically stack the arrays\n",
        "np.vstack([x, grid])"
      ],
      "execution_count": 87,
      "outputs": [
        {
          "output_type": "execute_result",
          "data": {
            "text/plain": [
              "array([[1, 2, 3],\n",
              "       [9, 8, 7],\n",
              "       [6, 5, 4]])"
            ]
          },
          "metadata": {
            "tags": []
          },
          "execution_count": 87
        }
      ]
    },
    {
      "cell_type": "code",
      "metadata": {
        "colab": {
          "base_uri": "https://localhost:8080/"
        },
        "id": "oHKzWTK07aL9",
        "outputId": "ccf79bb4-68a8-4831-fb9d-790b4bec67a7"
      },
      "source": [
        "# horizontally stack the arrays\n",
        "y = np.array([[99],[99]])\n",
        "np.hstack([grid, y])"
      ],
      "execution_count": 88,
      "outputs": [
        {
          "output_type": "execute_result",
          "data": {
            "text/plain": [
              "array([[ 9,  8,  7, 99],\n",
              "       [ 6,  5,  4, 99]])"
            ]
          },
          "metadata": {
            "tags": []
          },
          "execution_count": 88
        }
      ]
    },
    {
      "cell_type": "markdown",
      "metadata": {
        "id": "W_uyzAq7CNdh"
      },
      "source": [
        "**Splitting of arrays**"
      ]
    },
    {
      "cell_type": "code",
      "metadata": {
        "colab": {
          "base_uri": "https://localhost:8080/"
        },
        "id": "P59WQsw-7cUB",
        "outputId": "8f601d6e-b3ab-46ee-cfb5-ddb899f1c5ef"
      },
      "source": [
        "x = [1, 2, 3, 99, 99, 3, 2, 1]\n",
        "x1, x2, x3 = np.split(x, [3, 5])\n",
        "print(x1, x2, x3)"
      ],
      "execution_count": 89,
      "outputs": [
        {
          "output_type": "stream",
          "text": [
            "[1 2 3] [99 99] [3 2 1]\n"
          ],
          "name": "stdout"
        }
      ]
    },
    {
      "cell_type": "code",
      "metadata": {
        "colab": {
          "base_uri": "https://localhost:8080/"
        },
        "id": "MKYmM396CT7z",
        "outputId": "b6f60fd6-727b-4d9c-db5b-fc2a308d9e5d"
      },
      "source": [
        "\n",
        "grid = np.arange(16).reshape((4, 4))\n",
        "grid"
      ],
      "execution_count": 90,
      "outputs": [
        {
          "output_type": "execute_result",
          "data": {
            "text/plain": [
              "array([[ 0,  1,  2,  3],\n",
              "       [ 4,  5,  6,  7],\n",
              "       [ 8,  9, 10, 11],\n",
              "       [12, 13, 14, 15]])"
            ]
          },
          "metadata": {
            "tags": []
          },
          "execution_count": 90
        }
      ]
    },
    {
      "cell_type": "code",
      "metadata": {
        "colab": {
          "base_uri": "https://localhost:8080/"
        },
        "id": "Fd2Ikls-CWsf",
        "outputId": "edaf34f2-2c28-4923-a1fb-35602fbe3f09"
      },
      "source": [
        "upper, lower = np.vsplit(grid, [2])\n",
        "print(upper)\n",
        "print(lower)"
      ],
      "execution_count": 91,
      "outputs": [
        {
          "output_type": "stream",
          "text": [
            "[[0 1 2 3]\n",
            " [4 5 6 7]]\n",
            "[[ 8  9 10 11]\n",
            " [12 13 14 15]]\n"
          ],
          "name": "stdout"
        }
      ]
    },
    {
      "cell_type": "code",
      "metadata": {
        "colab": {
          "base_uri": "https://localhost:8080/"
        },
        "id": "WMyUXcDaCXSB",
        "outputId": "cbbc657a-c016-48f5-9309-78e75034029d"
      },
      "source": [
        "left, right = np.hsplit(grid, [2])\n",
        "print(left)\n",
        "print(right)"
      ],
      "execution_count": 92,
      "outputs": [
        {
          "output_type": "stream",
          "text": [
            "[[ 0  1]\n",
            " [ 4  5]\n",
            " [ 8  9]\n",
            " [12 13]]\n",
            "[[ 2  3]\n",
            " [ 6  7]\n",
            " [10 11]\n",
            " [14 15]]\n"
          ],
          "name": "stdout"
        }
      ]
    },
    {
      "cell_type": "code",
      "metadata": {
        "colab": {
          "base_uri": "https://localhost:8080/"
        },
        "id": "SyOESlMXCZPl",
        "outputId": "416c2e1b-c162-40df-b3fc-e967e70b7dd8"
      },
      "source": [
        "\n",
        "import numpy as np\n",
        "np.random.seed(0)\n",
        "def compute_reciprocals(values):\n",
        "  output = np.empty(len(values))\n",
        "  for i in range(len(values)):\n",
        "    output[i] = 1.0 / values[i]\n",
        "    return output\n",
        " \n",
        "values = np.random.randint(1, 10, size=5)\n",
        "compute_reciprocals(values)"
      ],
      "execution_count": 93,
      "outputs": [
        {
          "output_type": "execute_result",
          "data": {
            "text/plain": [
              "array([0.16666667, 0.        , 0.        , 0.        , 0.        ])"
            ]
          },
          "metadata": {
            "tags": []
          },
          "execution_count": 93
        }
      ]
    },
    {
      "cell_type": "markdown",
      "metadata": {
        "id": "2Moyd-pLCnRN"
      },
      "source": [
        "mengukur waktu eksekusi kode"
      ]
    },
    {
      "cell_type": "code",
      "metadata": {
        "colab": {
          "base_uri": "https://localhost:8080/"
        },
        "id": "z50IyGHHCbdN",
        "outputId": "889789f5-ad65-455f-b456-0336ea398f3f"
      },
      "source": [
        "big_array = np.random.randint(1, 100, size=1000000)\n",
        "%timeit compute_reciprocals(big_array)"
      ],
      "execution_count": 94,
      "outputs": [
        {
          "output_type": "stream",
          "text": [
            "The slowest run took 16.93 times longer than the fastest. This could mean that an intermediate result is being cached.\n",
            "100000 loops, best of 5: 12 µs per loop\n"
          ],
          "name": "stdout"
        }
      ]
    },
    {
      "cell_type": "markdown",
      "metadata": {
        "id": "Ju3xQQ_gCtkd"
      },
      "source": [
        "Introducing UFuncs\n",
        "\n",
        "Pendekatan vektorisasi ini dirancang untuk mendorong loop ke lapisan terkompilasi yang mendasari NumPy, yang mengarah ke eksekusi yang jauh lebih cepat. Bandingkan hasil dari dua hal berikut:\n",
        "\n"
      ]
    },
    {
      "cell_type": "code",
      "metadata": {
        "colab": {
          "base_uri": "https://localhost:8080/"
        },
        "id": "E8YpKgnuCdH3",
        "outputId": "f077a8d9-c9d3-4894-d925-c62894e8362b"
      },
      "source": [
        "print(compute_reciprocals(values))\n",
        "print(1.0 / values)"
      ],
      "execution_count": 95,
      "outputs": [
        {
          "output_type": "stream",
          "text": [
            "[0.16666667 0.         0.         0.         0.        ]\n",
            "[0.16666667 1.         0.25       0.25       0.125     ]\n"
          ],
          "name": "stdout"
        }
      ]
    },
    {
      "cell_type": "code",
      "metadata": {
        "colab": {
          "base_uri": "https://localhost:8080/"
        },
        "id": "oEpz2oOqCwMu",
        "outputId": "d4f51be8-e01d-4fbd-b96a-3357ef23a396"
      },
      "source": [
        "\n",
        "%timeit (1.0 / big_array)"
      ],
      "execution_count": 96,
      "outputs": [
        {
          "output_type": "stream",
          "text": [
            "The slowest run took 8.77 times longer than the fastest. This could mean that an intermediate result is being cached.\n",
            "100 loops, best of 5: 2.41 ms per loop\n"
          ],
          "name": "stdout"
        }
      ]
    },
    {
      "cell_type": "code",
      "metadata": {
        "colab": {
          "base_uri": "https://localhost:8080/"
        },
        "id": "iosfubrsCx1d",
        "outputId": "38ea7db4-4941-4a25-cef5-8170ec2739ef"
      },
      "source": [
        "np.arange(5) / np.arange(1, 6)"
      ],
      "execution_count": 97,
      "outputs": [
        {
          "output_type": "execute_result",
          "data": {
            "text/plain": [
              "array([0.        , 0.5       , 0.66666667, 0.75      , 0.8       ])"
            ]
          },
          "metadata": {
            "tags": []
          },
          "execution_count": 97
        }
      ]
    },
    {
      "cell_type": "code",
      "metadata": {
        "colab": {
          "base_uri": "https://localhost:8080/"
        },
        "id": "pGTu8FtXC0PF",
        "outputId": "3147c66c-3e6f-4272-8f2f-d9953a24e813"
      },
      "source": [
        "#pada array multidimensi\n",
        "x = np.arange(9).reshape((3, 3))\n",
        "2 ** x"
      ],
      "execution_count": 98,
      "outputs": [
        {
          "output_type": "execute_result",
          "data": {
            "text/plain": [
              "array([[  1,   2,   4],\n",
              "       [  8,  16,  32],\n",
              "       [ 64, 128, 256]])"
            ]
          },
          "metadata": {
            "tags": []
          },
          "execution_count": 98
        }
      ]
    },
    {
      "cell_type": "code",
      "metadata": {
        "colab": {
          "base_uri": "https://localhost:8080/"
        },
        "id": "zl5WpoqXC0tR",
        "outputId": "9e333463-8566-44e8-8b07-3e977a785f9d"
      },
      "source": [
        "x = np.arange(4)\n",
        "print(\"x =\", x)\n",
        "print(\"x + 5 =\", x + 5)\n",
        "print(\"x - 5 =\", x - 5)\n",
        "print(\"x * 2 =\", x * 2)\n",
        "print(\"x / 2 =\", x / 2)\n",
        "print(\"x // 2 =\", x // 2) # floor division"
      ],
      "execution_count": 100,
      "outputs": [
        {
          "output_type": "stream",
          "text": [
            "x = [0 1 2 3]\n",
            "x + 5 = [5 6 7 8]\n",
            "x - 5 = [-5 -4 -3 -2]\n",
            "x * 2 = [0 2 4 6]\n",
            "x / 2 = [0.  0.5 1.  1.5]\n",
            "x // 2 = [0 0 1 1]\n"
          ],
          "name": "stdout"
        }
      ]
    },
    {
      "cell_type": "code",
      "metadata": {
        "colab": {
          "base_uri": "https://localhost:8080/"
        },
        "id": "svJbpdS_C2qG",
        "outputId": "2ab7732d-2fab-4898-bc6e-ec75ad3f48dd"
      },
      "source": [
        "#ufunc unary untuk negasi, operator ** untuk eksponen\n",
        "#%operator untuk modulus \n",
        "print(\"-x = \", -x)\n",
        "print(\"x ** 2 = \", x ** 2)\n",
        "print(\"x % 2 = \", x % 2)"
      ],
      "execution_count": 101,
      "outputs": [
        {
          "output_type": "stream",
          "text": [
            "-x =  [ 0 -1 -2 -3]\n",
            "x ** 2 =  [0 1 4 9]\n",
            "x % 2 =  [0 1 0 1]\n"
          ],
          "name": "stdout"
        }
      ]
    },
    {
      "cell_type": "code",
      "metadata": {
        "colab": {
          "base_uri": "https://localhost:8080/"
        },
        "id": "j3GTXUNFC74v",
        "outputId": "e02844be-0ec8-42a4-8d64-7e2c7a27875d"
      },
      "source": [
        "-(0.5*x + 1) ** 2"
      ],
      "execution_count": 102,
      "outputs": [
        {
          "output_type": "execute_result",
          "data": {
            "text/plain": [
              "array([-1.  , -2.25, -4.  , -6.25])"
            ]
          },
          "metadata": {
            "tags": []
          },
          "execution_count": 102
        }
      ]
    },
    {
      "cell_type": "code",
      "metadata": {
        "colab": {
          "base_uri": "https://localhost:8080/"
        },
        "id": "hwa8Wom_C9p4",
        "outputId": "8cdbd1e9-d75c-4f61-9d55-5c1a932290ab"
      },
      "source": [
        "np.add(x, 2)"
      ],
      "execution_count": 103,
      "outputs": [
        {
          "output_type": "execute_result",
          "data": {
            "text/plain": [
              "array([2, 3, 4, 5])"
            ]
          },
          "metadata": {
            "tags": []
          },
          "execution_count": 103
        }
      ]
    },
    {
      "cell_type": "markdown",
      "metadata": {
        "id": "gPYFUjzcDA7y"
      },
      "source": [
        "absolute value\n",
        "\n",
        "Sama seperti NumPy yang memahami operator aritmatika bawaan Python, NumPy juga memahaminya Fungsi nilai absolut bawaan Python:"
      ]
    },
    {
      "cell_type": "code",
      "metadata": {
        "colab": {
          "base_uri": "https://localhost:8080/"
        },
        "id": "_ZCoswzHC-48",
        "outputId": "f6cebf09-2e95-4e1b-fd59-d20792f8b889"
      },
      "source": [
        "x = np.array([-2, -1, 0, 1, 2])\n",
        "abs(x)"
      ],
      "execution_count": 104,
      "outputs": [
        {
          "output_type": "execute_result",
          "data": {
            "text/plain": [
              "array([2, 1, 0, 1, 2])"
            ]
          },
          "metadata": {
            "tags": []
          },
          "execution_count": 104
        }
      ]
    },
    {
      "cell_type": "code",
      "metadata": {
        "colab": {
          "base_uri": "https://localhost:8080/"
        },
        "id": "Nn6X5yyeDEXS",
        "outputId": "8bb648c9-aa25-486e-8d0d-e4a420c2536b"
      },
      "source": [
        "np.absolute(x)"
      ],
      "execution_count": 105,
      "outputs": [
        {
          "output_type": "execute_result",
          "data": {
            "text/plain": [
              "array([2, 1, 0, 1, 2])"
            ]
          },
          "metadata": {
            "tags": []
          },
          "execution_count": 105
        }
      ]
    },
    {
      "cell_type": "code",
      "metadata": {
        "colab": {
          "base_uri": "https://localhost:8080/"
        },
        "id": "Op6XUKfVDFzZ",
        "outputId": "caac2e9e-ba1b-42f4-d16b-df55b2163901"
      },
      "source": [
        "np.abs(x)"
      ],
      "execution_count": 106,
      "outputs": [
        {
          "output_type": "execute_result",
          "data": {
            "text/plain": [
              "array([2, 1, 0, 1, 2])"
            ]
          },
          "metadata": {
            "tags": []
          },
          "execution_count": 106
        }
      ]
    },
    {
      "cell_type": "code",
      "metadata": {
        "colab": {
          "base_uri": "https://localhost:8080/"
        },
        "id": "R1-TG2gcDHM5",
        "outputId": "5083fb34-ff34-4dae-e680-e970196a5637"
      },
      "source": [
        "#Handle data yang kompleks menggunkan ufunx\n",
        "x = np.array([3 - 4j, 4 - 3j, 2 + 0j, 0 + 1j])\n",
        "np.abs(x)"
      ],
      "execution_count": 108,
      "outputs": [
        {
          "output_type": "execute_result",
          "data": {
            "text/plain": [
              "array([5., 5., 2., 1.])"
            ]
          },
          "metadata": {
            "tags": []
          },
          "execution_count": 108
        }
      ]
    },
    {
      "cell_type": "markdown",
      "metadata": {
        "id": "uUSUw8flFmWk"
      },
      "source": [
        "Trigonometric functions\n",
        "\n",
        "NumPy menyediakan sejumlah besar ufunc yang berguna, dan beberapa yang paling berguna untuk file ilmuwan data adalah fungsi trigonometri."
      ]
    },
    {
      "cell_type": "code",
      "metadata": {
        "id": "9aC2vt1bFm9s"
      },
      "source": [
        "#array sudut\n",
        "theta = np.linspace(0, np.pi, 3)"
      ],
      "execution_count": 109,
      "outputs": []
    },
    {
      "cell_type": "code",
      "metadata": {
        "colab": {
          "base_uri": "https://localhost:8080/"
        },
        "id": "ARQJC6mmFoXG",
        "outputId": "5b52c25c-e87c-436f-8c89-178bbf8579a1"
      },
      "source": [
        "#Menghitung beberapa fungsi trigonometri pada nilai-nilai\n",
        "print(\"theta = \", theta)\n",
        "print(\"sin(theta) = \", np.sin(theta))\n",
        "print(\"cos(theta) = \", np.cos(theta))\n",
        "print(\"tan(theta) = \", np.tan(theta))"
      ],
      "execution_count": 110,
      "outputs": [
        {
          "output_type": "stream",
          "text": [
            "theta =  [0.         1.57079633 3.14159265]\n",
            "sin(theta) =  [0.0000000e+00 1.0000000e+00 1.2246468e-16]\n",
            "cos(theta) =  [ 1.000000e+00  6.123234e-17 -1.000000e+00]\n",
            "tan(theta) =  [ 0.00000000e+00  1.63312394e+16 -1.22464680e-16]\n"
          ],
          "name": "stdout"
        }
      ]
    },
    {
      "cell_type": "code",
      "metadata": {
        "colab": {
          "base_uri": "https://localhost:8080/"
        },
        "id": "rwEJG2xwFp3X",
        "outputId": "62bfa213-8aa7-483a-cbae-6905c568eb6b"
      },
      "source": [
        "x = [-1, 0, 1]\n",
        "print(\"x = \", x)\n",
        "print(\"arcsin(x) = \", np.arcsin(x))\n",
        "print(\"arccos(x) = \", np.arccos(x))\n",
        "print(\"arctan(x) = \", np.arctan(x))"
      ],
      "execution_count": 111,
      "outputs": [
        {
          "output_type": "stream",
          "text": [
            "x =  [-1, 0, 1]\n",
            "arcsin(x) =  [-1.57079633  0.          1.57079633]\n",
            "arccos(x) =  [3.14159265 1.57079633 0.        ]\n",
            "arctan(x) =  [-0.78539816  0.          0.78539816]\n"
          ],
          "name": "stdout"
        }
      ]
    },
    {
      "cell_type": "markdown",
      "metadata": {
        "id": "iYCT0FcrFuEX"
      },
      "source": [
        "exponents and logarithm"
      ]
    },
    {
      "cell_type": "code",
      "metadata": {
        "colab": {
          "base_uri": "https://localhost:8080/"
        },
        "id": "pdwTKE4XFyUm",
        "outputId": "7c9c637d-8425-4955-e0cb-1c1850d3b6cb"
      },
      "source": [
        "x = [1, 2, 3]\n",
        "print(\"x =\", x)\n",
        "print(\"e^x =\", np.exp(x))\n",
        "print(\"2^x =\", np.exp2(x))\n",
        "print(\"3^x =\", np.power(3, x))"
      ],
      "execution_count": 112,
      "outputs": [
        {
          "output_type": "stream",
          "text": [
            "x = [1, 2, 3]\n",
            "e^x = [ 2.71828183  7.3890561  20.08553692]\n",
            "2^x = [2. 4. 8.]\n",
            "3^x = [ 3  9 27]\n"
          ],
          "name": "stdout"
        }
      ]
    },
    {
      "cell_type": "code",
      "metadata": {
        "colab": {
          "base_uri": "https://localhost:8080/"
        },
        "id": "8nbaxcYwFy1t",
        "outputId": "a30a6e96-615f-4a47-f6ea-16e6e0296fa1"
      },
      "source": [
        "x = [1, 2, 4, 10]\n",
        "print(\"x =\", x)\n",
        "print(\"ln(x) =\", np.log(x))\n",
        "print(\"log2(x) =\", np.log2(x))\n",
        "print(\"log10(x) =\", np.log10(x))"
      ],
      "execution_count": 113,
      "outputs": [
        {
          "output_type": "stream",
          "text": [
            "x = [1, 2, 4, 10]\n",
            "ln(x) = [0.         0.69314718 1.38629436 2.30258509]\n",
            "log2(x) = [0.         1.         2.         3.32192809]\n",
            "log10(x) = [0.         0.30103    0.60205999 1.        ]\n"
          ],
          "name": "stdout"
        }
      ]
    },
    {
      "cell_type": "code",
      "metadata": {
        "colab": {
          "base_uri": "https://localhost:8080/"
        },
        "id": "M6Fd6SrQF0ma",
        "outputId": "f6bede1d-c0af-44ab-bb89-e781a4a0fa8e"
      },
      "source": [
        "#menjaga presisi dengan masukan yang sangat kecil\n",
        "x = [0, 0.001, 0.01, 0.1]\n",
        "print(\"exp(x) - 1 =\", np.expm1(x))\n",
        "print(\"log(1 + x) =\", np.log1p(x))"
      ],
      "execution_count": 114,
      "outputs": [
        {
          "output_type": "stream",
          "text": [
            "exp(x) - 1 = [0.         0.0010005  0.01005017 0.10517092]\n",
            "log(1 + x) = [0.         0.0009995  0.00995033 0.09531018]\n"
          ],
          "name": "stdout"
        }
      ]
    },
    {
      "cell_type": "markdown",
      "metadata": {
        "id": "LlbBK0EzF5pR"
      },
      "source": [
        "Specialized ufuncs\n",
        "\n",
        "Sumber bagus lainnya untuk ufunc yang lebih terspesialisasi dan tidak jelas adalah submodul scipy.special. Jika ingin menghitung beberapa fungsi matematika yang tidak jelas , kemungkinan besar diimplementasikan di scipy.special."
      ]
    },
    {
      "cell_type": "code",
      "metadata": {
        "id": "KVvz3tk_F6Eq"
      },
      "source": [
        "from scipy import special"
      ],
      "execution_count": 115,
      "outputs": []
    },
    {
      "cell_type": "code",
      "metadata": {
        "colab": {
          "base_uri": "https://localhost:8080/"
        },
        "id": "cgwIaWy4F7ZQ",
        "outputId": "2461a305-52d5-4d52-ad70-1d8f89d36cee"
      },
      "source": [
        "# Gamma functions (generalized factorials) and related functions\n",
        "x = [1, 5, 10]\n",
        "print(\"gamma(x) =\", special.gamma(x))\n",
        "print(\"ln|gamma(x)| =\", special.gammaln(x))\n",
        "print(\"beta(x, 2) =\", special.beta(x, 2))"
      ],
      "execution_count": 117,
      "outputs": [
        {
          "output_type": "stream",
          "text": [
            "gamma(x) = [1.0000e+00 2.4000e+01 3.6288e+05]\n",
            "ln|gamma(x)| = [ 0.          3.17805383 12.80182748]\n",
            "beta(x, 2) = [0.5        0.03333333 0.00909091]\n"
          ],
          "name": "stdout"
        }
      ]
    },
    {
      "cell_type": "code",
      "metadata": {
        "colab": {
          "base_uri": "https://localhost:8080/"
        },
        "id": "L07rTaIJF-5u",
        "outputId": "8722e874-77ce-4dfb-e868-1e7cb9e3cce0"
      },
      "source": [
        "# Error function (integral of Gaussian)\n",
        "# its complement, and its inverse\n",
        "x = np.array([0, 0.3, 0.7, 1.0])\n",
        "print(\"erf(x) =\", special.erf(x))\n",
        "print(\"erfc(x) =\", special.erfc(x))\n",
        "print(\"erfinv(x) =\", special.erfinv(x))"
      ],
      "execution_count": 118,
      "outputs": [
        {
          "output_type": "stream",
          "text": [
            "erf(x) = [0.         0.32862676 0.67780119 0.84270079]\n",
            "erfc(x) = [1.         0.67137324 0.32219881 0.15729921]\n",
            "erfinv(x) = [0.         0.27246271 0.73286908        inf]\n"
          ],
          "name": "stdout"
        }
      ]
    },
    {
      "cell_type": "markdown",
      "metadata": {
        "id": "oqm2ioUJGDzd"
      },
      "source": [
        "Specifying output\n",
        "\n",
        "Untuk kalkulasi besar, terkadang berguna untuk dapat menentukan larik di mana hasil perhitungan akan disimpan. Daripada membuat array sementara, kita dapat menggunakan ini untuk menulis hasil komputasi langsung ke lokasi memori tempat Anda berada seperti mereka. Untuk semua ufunc, Kita bisa melakukan ini menggunakan argumen out dari fungsi"
      ]
    },
    {
      "cell_type": "code",
      "metadata": {
        "colab": {
          "base_uri": "https://localhost:8080/"
        },
        "id": "a4axbQ-AGEHl",
        "outputId": "7e1799b3-1a9d-4652-a773-b64382e33bd1"
      },
      "source": [
        "\n",
        "x = np.arange(5)\n",
        "y = np.empty(5)\n",
        "np.multiply(x, 10, out=y)\n",
        "print(y)"
      ],
      "execution_count": 119,
      "outputs": [
        {
          "output_type": "stream",
          "text": [
            "[ 0. 10. 20. 30. 40.]\n"
          ],
          "name": "stdout"
        }
      ]
    },
    {
      "cell_type": "code",
      "metadata": {
        "colab": {
          "base_uri": "https://localhost:8080/"
        },
        "id": "GqPgj1b7GFdR",
        "outputId": "e033fcb1-5d37-47c2-c1d5-f701779ba75b"
      },
      "source": [
        "y = np.zeros(10)\n",
        "np.power(2, x, out=y[::2])\n",
        "print(y)"
      ],
      "execution_count": 120,
      "outputs": [
        {
          "output_type": "stream",
          "text": [
            "[ 1.  0.  2.  0.  4.  0.  8.  0. 16.  0.]\n"
          ],
          "name": "stdout"
        }
      ]
    },
    {
      "cell_type": "markdown",
      "metadata": {
        "id": "N5TWa5xrGNPn"
      },
      "source": [
        "Aggregates\n",
        "\n",
        "ada beberapa agregat menarik yang dapat dihitung langsung dari objek. Misalnya, jika kita ingin mengurangi array dengan operasi, kita dapat menggunakan metode pengurangan dari setiap ufunc. Sebuah pengurangan berulang kali berlaku memberikan operasi ke elemen array sampai hanya satu hasil yang tersisa."
      ]
    },
    {
      "cell_type": "code",
      "metadata": {
        "colab": {
          "base_uri": "https://localhost:8080/"
        },
        "id": "cTl9dT1CGOjW",
        "outputId": "62b1332c-c3fd-4090-fc8a-a073607df44c"
      },
      "source": [
        "\n",
        "#memanggil reduce pada add ufunc mengembalikan jumlah semua elemen diHimpunan\n",
        "x = np.arange(1, 6)\n",
        "np.add.reduce(x)"
      ],
      "execution_count": 121,
      "outputs": [
        {
          "output_type": "execute_result",
          "data": {
            "text/plain": [
              "15"
            ]
          },
          "metadata": {
            "tags": []
          },
          "execution_count": 121
        }
      ]
    },
    {
      "cell_type": "code",
      "metadata": {
        "colab": {
          "base_uri": "https://localhost:8080/"
        },
        "id": "IORnQ0aKGP7e",
        "outputId": "de5bfda4-e29a-4573-de45-b919b5e209ee"
      },
      "source": [
        "np.multiply.reduce(x)\n"
      ],
      "execution_count": 122,
      "outputs": [
        {
          "output_type": "execute_result",
          "data": {
            "text/plain": [
              "120"
            ]
          },
          "metadata": {
            "tags": []
          },
          "execution_count": 122
        }
      ]
    },
    {
      "cell_type": "code",
      "metadata": {
        "colab": {
          "base_uri": "https://localhost:8080/"
        },
        "id": "DJV4cc0HGRVg",
        "outputId": "c7f27672-f69c-4f44-95a7-e70a4c2f4d68"
      },
      "source": [
        "np.add.accumulate(x)\n"
      ],
      "execution_count": 123,
      "outputs": [
        {
          "output_type": "execute_result",
          "data": {
            "text/plain": [
              "array([ 1,  3,  6, 10, 15])"
            ]
          },
          "metadata": {
            "tags": []
          },
          "execution_count": 123
        }
      ]
    },
    {
      "cell_type": "code",
      "metadata": {
        "colab": {
          "base_uri": "https://localhost:8080/"
        },
        "id": "dsJC0VGeGTU9",
        "outputId": "97e4f579-8805-4a97-92f0-11cb4f0d805b"
      },
      "source": [
        "np.multiply.accumulate(x)\n"
      ],
      "execution_count": 124,
      "outputs": [
        {
          "output_type": "execute_result",
          "data": {
            "text/plain": [
              "array([  1,   2,   6,  24, 120])"
            ]
          },
          "metadata": {
            "tags": []
          },
          "execution_count": 124
        }
      ]
    },
    {
      "cell_type": "markdown",
      "metadata": {
        "id": "nSAuDuEFGVmy"
      },
      "source": [
        "Outer products\n",
        "\n",
        "menghitung keluaran dari semua pasangan dari dua masukan yang berbeda menggunakan metode luar. Ini memungkinkan kita, dalam satu baris, untuk melakukan hal-hal seperti membuat tabel perkalian"
      ]
    },
    {
      "cell_type": "code",
      "metadata": {
        "colab": {
          "base_uri": "https://localhost:8080/"
        },
        "id": "WykbDq4pGW86",
        "outputId": "32163343-d05f-4701-f1fe-fb00cd9b4564"
      },
      "source": [
        "x = np.arange(1, 6)\n",
        "np.multiply.outer(x, x)\n"
      ],
      "execution_count": 125,
      "outputs": [
        {
          "output_type": "execute_result",
          "data": {
            "text/plain": [
              "array([[ 1,  2,  3,  4,  5],\n",
              "       [ 2,  4,  6,  8, 10],\n",
              "       [ 3,  6,  9, 12, 15],\n",
              "       [ 4,  8, 12, 16, 20],\n",
              "       [ 5, 10, 15, 20, 25]])"
            ]
          },
          "metadata": {
            "tags": []
          },
          "execution_count": 125
        }
      ]
    },
    {
      "cell_type": "markdown",
      "metadata": {
        "id": "6iYAALVxGdMC"
      },
      "source": [
        "\n",
        "Summing the Values in an Array\n",
        "\n",
        "Sebagai contoh cepat, pertimbangkan untuk menghitung jumlah semua nilai dalam array."
      ]
    },
    {
      "cell_type": "code",
      "metadata": {
        "id": "dlSWt_LIGe-l"
      },
      "source": [
        "\n",
        "import numpy as np"
      ],
      "execution_count": 126,
      "outputs": []
    },
    {
      "cell_type": "code",
      "metadata": {
        "colab": {
          "base_uri": "https://localhost:8080/"
        },
        "id": "fQwo68N3Ggff",
        "outputId": "838902d2-b1d2-4cea-ccb2-a0fbff02b737"
      },
      "source": [
        "L = np.random.random(100)\n",
        "sum(L)"
      ],
      "execution_count": 127,
      "outputs": [
        {
          "output_type": "execute_result",
          "data": {
            "text/plain": [
              "50.461758453195614"
            ]
          },
          "metadata": {
            "tags": []
          },
          "execution_count": 127
        }
      ]
    },
    {
      "cell_type": "code",
      "metadata": {
        "colab": {
          "base_uri": "https://localhost:8080/"
        },
        "id": "Nkm5ifDMGiAv",
        "outputId": "4ec68341-845f-4bc7-e476-a8b2cd2d5842"
      },
      "source": [
        "#simplecase\n",
        "np.sum(L)"
      ],
      "execution_count": 128,
      "outputs": [
        {
          "output_type": "execute_result",
          "data": {
            "text/plain": [
              "50.46175845319564"
            ]
          },
          "metadata": {
            "tags": []
          },
          "execution_count": 128
        }
      ]
    },
    {
      "cell_type": "code",
      "metadata": {
        "colab": {
          "base_uri": "https://localhost:8080/"
        },
        "id": "WQQU2HfAGjSn",
        "outputId": "83c4d1ff-36ca-464d-9ff2-8ff010cb7181"
      },
      "source": [
        "\n",
        "big_array = np.random.rand(1000000)\n",
        "%timeit sum(big_array)\n",
        "%timeit np.sum(big_array)"
      ],
      "execution_count": 130,
      "outputs": [
        {
          "output_type": "stream",
          "text": [
            "10 loops, best of 5: 173 ms per loop\n",
            "1000 loops, best of 5: 409 µs per loop\n"
          ],
          "name": "stdout"
        }
      ]
    },
    {
      "cell_type": "code",
      "metadata": {
        "colab": {
          "base_uri": "https://localhost:8080/"
        },
        "id": "dZnj0f-OGm-L",
        "outputId": "7d147629-b6b4-471c-a8b1-78f969dcdbe9"
      },
      "source": [
        "min(big_array), max(big_array)"
      ],
      "execution_count": 131,
      "outputs": [
        {
          "output_type": "execute_result",
          "data": {
            "text/plain": [
              "(7.071203171893359e-07, 0.9999997207656334)"
            ]
          },
          "metadata": {
            "tags": []
          },
          "execution_count": 131
        }
      ]
    },
    {
      "cell_type": "code",
      "metadata": {
        "colab": {
          "base_uri": "https://localhost:8080/"
        },
        "id": "MEF1smOWGqQe",
        "outputId": "e8138405-e98c-4820-da58-147918f2886a"
      },
      "source": [
        "min(big_array), max(big_array)"
      ],
      "execution_count": 132,
      "outputs": [
        {
          "output_type": "execute_result",
          "data": {
            "text/plain": [
              "(7.071203171893359e-07, 0.9999997207656334)"
            ]
          },
          "metadata": {
            "tags": []
          },
          "execution_count": 132
        }
      ]
    },
    {
      "cell_type": "code",
      "metadata": {
        "colab": {
          "base_uri": "https://localhost:8080/"
        },
        "id": "zhcf58MWGrrR",
        "outputId": "f9eb8904-cfb5-4d5f-9e9c-2963b760fd19"
      },
      "source": [
        "%timeit min(big_array)\n",
        "%timeit np.min(big_array)"
      ],
      "execution_count": 133,
      "outputs": [
        {
          "output_type": "stream",
          "text": [
            "10 loops, best of 5: 104 ms per loop\n",
            "1000 loops, best of 5: 321 µs per loop\n"
          ],
          "name": "stdout"
        }
      ]
    },
    {
      "cell_type": "code",
      "metadata": {
        "colab": {
          "base_uri": "https://localhost:8080/"
        },
        "id": "ybSw5_2jGtVT",
        "outputId": "8b7ce5e0-4f98-429f-bc89-0fae77b9f7e7"
      },
      "source": [
        "print(big_array.min(), big_array.max(), big_array.sum())"
      ],
      "execution_count": 134,
      "outputs": [
        {
          "output_type": "stream",
          "text": [
            "7.071203171893359e-07 0.9999997207656334 500216.8034810001\n"
          ],
          "name": "stdout"
        }
      ]
    },
    {
      "cell_type": "markdown",
      "metadata": {
        "id": "MAXR_avkGxSa"
      },
      "source": [
        "Multidimensional aggregates\n",
        "\n",
        "Satu jenis operasi agregasi yang umum adalah agregat sepanjang baris atau kolom."
      ]
    },
    {
      "cell_type": "code",
      "metadata": {
        "colab": {
          "base_uri": "https://localhost:8080/"
        },
        "id": "ZgO5df-5Gyu0",
        "outputId": "26ff3757-585f-47fe-f437-9e7774493921"
      },
      "source": [
        "M = np.random.random((3, 4))\n",
        "print(M)"
      ],
      "execution_count": 135,
      "outputs": [
        {
          "output_type": "stream",
          "text": [
            "[[0.79832448 0.44923861 0.95274259 0.03193135]\n",
            " [0.18441813 0.71417358 0.76371195 0.11957117]\n",
            " [0.37578601 0.11936151 0.37497044 0.22944653]]\n"
          ],
          "name": "stdout"
        }
      ]
    },
    {
      "cell_type": "code",
      "metadata": {
        "colab": {
          "base_uri": "https://localhost:8080/"
        },
        "id": "tC9GSSjCG0qv",
        "outputId": "c18a6c62-7404-44ed-e045-f7a72646965b"
      },
      "source": [
        "#Fungsi agregasi NumPy akan mengembalikan agregat ke keseluruhan\n",
        "M.sum()"
      ],
      "execution_count": 136,
      "outputs": [
        {
          "output_type": "execute_result",
          "data": {
            "text/plain": [
              "5.1136763453287335"
            ]
          },
          "metadata": {
            "tags": []
          },
          "execution_count": 136
        }
      ]
    },
    {
      "cell_type": "code",
      "metadata": {
        "colab": {
          "base_uri": "https://localhost:8080/"
        },
        "id": "fFuADMscG1_d",
        "outputId": "8e1842e7-281d-4c2c-f775-e720dfa6835e"
      },
      "source": [
        "#Menentukan nilai minimum\n",
        "M.min(axis=0)\n"
      ],
      "execution_count": 137,
      "outputs": [
        {
          "output_type": "execute_result",
          "data": {
            "text/plain": [
              "array([0.18441813, 0.11936151, 0.37497044, 0.03193135])"
            ]
          },
          "metadata": {
            "tags": []
          },
          "execution_count": 137
        }
      ]
    },
    {
      "cell_type": "code",
      "metadata": {
        "colab": {
          "base_uri": "https://localhost:8080/"
        },
        "id": "ah3zCz1OG37b",
        "outputId": "bafae4c5-b471-4e81-d998-bdfa0059ee95"
      },
      "source": [
        "\n",
        "#Menentukan nilai maksimum\n",
        "M.max(axis=1)"
      ],
      "execution_count": 138,
      "outputs": [
        {
          "output_type": "execute_result",
          "data": {
            "text/plain": [
              "array([0.95274259, 0.76371195, 0.37578601])"
            ]
          },
          "metadata": {
            "tags": []
          },
          "execution_count": 138
        }
      ]
    },
    {
      "cell_type": "markdown",
      "metadata": {
        "id": "EphHMepDHDb8"
      },
      "source": [
        "Computation on Arrays: Broadcasting"
      ]
    },
    {
      "cell_type": "code",
      "metadata": {
        "id": "Nt9rdVpdHD6i"
      },
      "source": [
        "import numpy as np"
      ],
      "execution_count": 139,
      "outputs": []
    },
    {
      "cell_type": "code",
      "metadata": {
        "colab": {
          "base_uri": "https://localhost:8080/"
        },
        "id": "8XX-wGnLHFEp",
        "outputId": "a2fdd8d2-ab36-4870-8d6f-e40bd0a2e6b1"
      },
      "source": [
        "a = np.array([0, 1, 2])\n",
        "b = np.array([5, 5, 5])\n",
        "a + b"
      ],
      "execution_count": 140,
      "outputs": [
        {
          "output_type": "execute_result",
          "data": {
            "text/plain": [
              "array([5, 6, 7])"
            ]
          },
          "metadata": {
            "tags": []
          },
          "execution_count": 140
        }
      ]
    },
    {
      "cell_type": "code",
      "metadata": {
        "colab": {
          "base_uri": "https://localhost:8080/"
        },
        "id": "1xQBNuYuHHiH",
        "outputId": "530e45da-6282-47ad-83e6-e68593c37e20"
      },
      "source": [
        "a + 5"
      ],
      "execution_count": 141,
      "outputs": [
        {
          "output_type": "execute_result",
          "data": {
            "text/plain": [
              "array([5, 6, 7])"
            ]
          },
          "metadata": {
            "tags": []
          },
          "execution_count": 141
        }
      ]
    },
    {
      "cell_type": "code",
      "metadata": {
        "colab": {
          "base_uri": "https://localhost:8080/"
        },
        "id": "Lipw3R2bHItJ",
        "outputId": "9b01e9d7-b4bc-4736-cdbc-1976e3177378"
      },
      "source": [
        "M = np.ones((3, 3))\n",
        "M"
      ],
      "execution_count": 142,
      "outputs": [
        {
          "output_type": "execute_result",
          "data": {
            "text/plain": [
              "array([[1., 1., 1.],\n",
              "       [1., 1., 1.],\n",
              "       [1., 1., 1.]])"
            ]
          },
          "metadata": {
            "tags": []
          },
          "execution_count": 142
        }
      ]
    },
    {
      "cell_type": "code",
      "metadata": {
        "colab": {
          "base_uri": "https://localhost:8080/"
        },
        "id": "PHkeR0baHLUa",
        "outputId": "961e6bba-79f3-4f0a-ec5d-962b719dbd98"
      },
      "source": [
        "M + a"
      ],
      "execution_count": 143,
      "outputs": [
        {
          "output_type": "execute_result",
          "data": {
            "text/plain": [
              "array([[1., 2., 3.],\n",
              "       [1., 2., 3.],\n",
              "       [1., 2., 3.]])"
            ]
          },
          "metadata": {
            "tags": []
          },
          "execution_count": 143
        }
      ]
    },
    {
      "cell_type": "code",
      "metadata": {
        "colab": {
          "base_uri": "https://localhost:8080/"
        },
        "id": "ASP8Wk_CHLtZ",
        "outputId": "80aef988-b8f1-4551-dbad-40b348d2ee15"
      },
      "source": [
        "\n",
        "a = np.arange(3)\n",
        "b = np.arange(3)[:, np.newaxis]\n",
        "print(a)\n",
        "print(b)"
      ],
      "execution_count": 144,
      "outputs": [
        {
          "output_type": "stream",
          "text": [
            "[0 1 2]\n",
            "[[0]\n",
            " [1]\n",
            " [2]]\n"
          ],
          "name": "stdout"
        }
      ]
    },
    {
      "cell_type": "code",
      "metadata": {
        "colab": {
          "base_uri": "https://localhost:8080/"
        },
        "id": "TXwTmg30HNyZ",
        "outputId": "1f71ada6-36e6-4179-f7dc-01f5f3050e29"
      },
      "source": [
        "a + b"
      ],
      "execution_count": 145,
      "outputs": [
        {
          "output_type": "execute_result",
          "data": {
            "text/plain": [
              "array([[0, 1, 2],\n",
              "       [1, 2, 3],\n",
              "       [2, 3, 4]])"
            ]
          },
          "metadata": {
            "tags": []
          },
          "execution_count": 145
        }
      ]
    },
    {
      "cell_type": "markdown",
      "metadata": {
        "id": "ZE18kKssHSal"
      },
      "source": [
        "Plotting a two-dimensional function\n",
        "\n",
        "Salah satu tempat yang sangat berguna dalam penyiaran adalah menampilkan gambar berdasarkan fungsi dua dimensi. Jika kita ingin mendefinisikan fungsi z = f (x, y), penyiaran bisa digunakan untuk menghitung fungsi di seluruh kisi:"
      ]
    },
    {
      "cell_type": "code",
      "metadata": {
        "id": "kj0gLe6VHS5v"
      },
      "source": [
        "# x and y have 50 steps from 0 to 5\n",
        "x = np.linspace(0, 5, 50)\n",
        "y = np.linspace(0, 5, 50)[:, np.newaxis]\n",
        "z = np.sin(x) ** 10 + np.cos(10 + y * x) * np.cos(x)"
      ],
      "execution_count": 146,
      "outputs": []
    },
    {
      "cell_type": "code",
      "metadata": {
        "id": "rUeLcoVRHUpb"
      },
      "source": [
        "#gunakanmatplotlib untuk plotting array 2 dimensi\n",
        "%matplotlib inline\n",
        "import matplotlib.pyplot as plt"
      ],
      "execution_count": 147,
      "outputs": []
    },
    {
      "cell_type": "code",
      "metadata": {
        "colab": {
          "base_uri": "https://localhost:8080/",
          "height": 269
        },
        "id": "aXOtyHpDHWww",
        "outputId": "00147fdd-9058-4204-9252-fa5ebe8d5e03"
      },
      "source": [
        "\n",
        "plt.imshow(z, origin='lower', extent=[0, 5, 0, 5],cmap='viridis')\n",
        "plt.colorbar();"
      ],
      "execution_count": 148,
      "outputs": [
        {
          "output_type": "display_data",
          "data": {
            "image/png": "[encoded data removed]",
            "text/plain": [
              "<Figure size 432x288 with 2 Axes>"
            ]
          },
          "metadata": {
            "tags": [],
            "needs_background": "light"
          }
        }
      ]
    },
    {
      "cell_type": "markdown",
      "metadata": {
        "id": "hVz6Qf7IHYP7"
      },
      "source": [
        " Comparisons, Masks, and Boolean Logic\n",
        "\n",
        "membahas penggunaan masks Boolean untuk memeriksa dan memanipulasi nilai dalam array NumPy. Masking muncul saat Anda ingin mengekstrak, memodifikasi, menghitung, atau jika tidak memanipulasi nilai dalam larik berdasarkan beberapa kriteria: misalnya, Anda mungkin ingin menghitung semua nilai yang lebih besar dari nilai tertentu, atau mungkin menghapus semua tangga yang berada di atas ambang tertentu."
      ]
    },
    {
      "cell_type": "code",
      "metadata": {
        "id": "3pagdSv7HagM"
      },
      "source": [
        "x = np.array([1, 2, 3, 4, 5])"
      ],
      "execution_count": 149,
      "outputs": []
    },
    {
      "cell_type": "code",
      "metadata": {
        "colab": {
          "base_uri": "https://localhost:8080/"
        },
        "id": "6OHogIsBHdA6",
        "outputId": "6be95d9e-c870-40de-eaa7-c7b20874bea7"
      },
      "source": [
        "x < 3 # less than"
      ],
      "execution_count": 150,
      "outputs": [
        {
          "output_type": "execute_result",
          "data": {
            "text/plain": [
              "array([ True,  True, False, False, False])"
            ]
          },
          "metadata": {
            "tags": []
          },
          "execution_count": 150
        }
      ]
    },
    {
      "cell_type": "code",
      "metadata": {
        "colab": {
          "base_uri": "https://localhost:8080/"
        },
        "id": "_jSBx-IAHfCI",
        "outputId": "6b62f64a-d307-43b3-86f6-f28440bc341a"
      },
      "source": [
        "\n",
        "x > 3 # greater than"
      ],
      "execution_count": 151,
      "outputs": [
        {
          "output_type": "execute_result",
          "data": {
            "text/plain": [
              "array([False, False, False,  True,  True])"
            ]
          },
          "metadata": {
            "tags": []
          },
          "execution_count": 151
        }
      ]
    },
    {
      "cell_type": "code",
      "metadata": {
        "colab": {
          "base_uri": "https://localhost:8080/"
        },
        "id": "v7pGSy2lHff1",
        "outputId": "3b38cc8d-09bb-4bec-b1a4-b0f2ad52454d"
      },
      "source": [
        "x <= 3 # less than or equal"
      ],
      "execution_count": 152,
      "outputs": [
        {
          "output_type": "execute_result",
          "data": {
            "text/plain": [
              "array([ True,  True,  True, False, False])"
            ]
          },
          "metadata": {
            "tags": []
          },
          "execution_count": 152
        }
      ]
    },
    {
      "cell_type": "code",
      "metadata": {
        "colab": {
          "base_uri": "https://localhost:8080/"
        },
        "id": "nuZt2hqGHg0P",
        "outputId": "d6532d3d-9057-49f3-aee0-7026bdd80da7"
      },
      "source": [
        "x >= 3 # greater than or equal"
      ],
      "execution_count": 153,
      "outputs": [
        {
          "output_type": "execute_result",
          "data": {
            "text/plain": [
              "array([False, False,  True,  True,  True])"
            ]
          },
          "metadata": {
            "tags": []
          },
          "execution_count": 153
        }
      ]
    },
    {
      "cell_type": "code",
      "metadata": {
        "colab": {
          "base_uri": "https://localhost:8080/"
        },
        "id": "OARiZU5fHiJC",
        "outputId": "ff043eef-3212-4d67-d821-5389194568a4"
      },
      "source": [
        "x != 3 # not equal\n"
      ],
      "execution_count": 154,
      "outputs": [
        {
          "output_type": "execute_result",
          "data": {
            "text/plain": [
              "array([ True,  True, False,  True,  True])"
            ]
          },
          "metadata": {
            "tags": []
          },
          "execution_count": 154
        }
      ]
    },
    {
      "cell_type": "code",
      "metadata": {
        "colab": {
          "base_uri": "https://localhost:8080/"
        },
        "id": "H2FKqtRUHjZT",
        "outputId": "1720f8ee-e29d-4b32-944d-0897ea75511a"
      },
      "source": [
        "x == 3 # equal\n"
      ],
      "execution_count": 155,
      "outputs": [
        {
          "output_type": "execute_result",
          "data": {
            "text/plain": [
              "array([False, False,  True, False, False])"
            ]
          },
          "metadata": {
            "tags": []
          },
          "execution_count": 0
        }
      ]
    },
    {
      "cell_type": "code",
      "metadata": {
        "id": "YQtIJuuvHnK7"
      },
      "source": [
        "#perbandingan elemen-demi-elemen dari dua larik,dengan ekspresi majemuk:\n",
        "(2 * x) == (x ** 2)"
      ],
      "execution_count": null,
      "outputs": []
    },
    {
      "cell_type": "code",
      "metadata": {
        "colab": {
          "base_uri": "https://localhost:8080/"
        },
        "id": "PFfx_TvsHorT",
        "outputId": "b35ec5aa-5c31-4172-cc6f-570fa94ab0e0"
      },
      "source": [
        "#contoh 2 dimensi\n",
        "rng = np.random.RandomState(0)\n",
        "x = rng.randint(10, size=(3, 4))\n",
        "x"
      ],
      "execution_count": 157,
      "outputs": [
        {
          "output_type": "execute_result",
          "data": {
            "text/plain": [
              "array([[5, 0, 3, 3],\n",
              "       [7, 9, 3, 5],\n",
              "       [2, 4, 7, 6]])"
            ]
          },
          "metadata": {
            "tags": []
          },
          "execution_count": 157
        }
      ]
    },
    {
      "cell_type": "code",
      "metadata": {
        "colab": {
          "base_uri": "https://localhost:8080/"
        },
        "id": "QIV5aD7DH8mp",
        "outputId": "4e07ceaf-3469-4c4b-f2a3-d9b9bf05bffa"
      },
      "source": [
        "x < 6"
      ],
      "execution_count": 158,
      "outputs": [
        {
          "output_type": "execute_result",
          "data": {
            "text/plain": [
              "array([[ True,  True,  True,  True],\n",
              "       [False, False,  True,  True],\n",
              "       [ True,  True, False, False]])"
            ]
          },
          "metadata": {
            "tags": []
          },
          "execution_count": 158
        }
      ]
    },
    {
      "cell_type": "code",
      "metadata": {
        "colab": {
          "base_uri": "https://localhost:8080/"
        },
        "id": "HkRxxSnUH-ov",
        "outputId": "c5a6e949-4b80-41c9-8d21-ee2687819b53"
      },
      "source": [
        "print(x)"
      ],
      "execution_count": 159,
      "outputs": [
        {
          "output_type": "stream",
          "text": [
            "[[5 0 3 3]\n",
            " [7 9 3 5]\n",
            " [2 4 7 6]]\n"
          ],
          "name": "stdout"
        }
      ]
    },
    {
      "cell_type": "markdown",
      "metadata": {
        "id": "hBv6FSrFIIA8"
      },
      "source": [
        "Boolean Arrays as Masks\n",
        "\n",
        "Di bagian sebelumnya, kita melihat agregat yang dihitung langsung di Boolean array. Pola yang lebih efektif adalah dengan menggunakan array Boolean sebagai pelindung, untuk memilih tertentu subset dari data itu sendiri. Kembali ke larik x kita dari sebelumnya, misalkan kita menginginkan array dari semua nilai dalam array yang kurang dari, katakanlah, 5:"
      ]
    },
    {
      "cell_type": "code",
      "metadata": {
        "colab": {
          "base_uri": "https://localhost:8080/"
        },
        "id": "MkyF3l4lIIbR",
        "outputId": "7ccfc84c-fcb7-4469-f110-c059784b9306"
      },
      "source": [
        "x"
      ],
      "execution_count": 161,
      "outputs": [
        {
          "output_type": "execute_result",
          "data": {
            "text/plain": [
              "array([[5, 0, 3, 3],\n",
              "       [7, 9, 3, 5],\n",
              "       [2, 4, 7, 6]])"
            ]
          },
          "metadata": {
            "tags": []
          },
          "execution_count": 161
        }
      ]
    },
    {
      "cell_type": "code",
      "metadata": {
        "colab": {
          "base_uri": "https://localhost:8080/"
        },
        "id": "xMSYWMFiILgm",
        "outputId": "61e77b6f-7162-44f0-b6eb-e6824c937f5a"
      },
      "source": [
        "x < 5"
      ],
      "execution_count": 162,
      "outputs": [
        {
          "output_type": "execute_result",
          "data": {
            "text/plain": [
              "array([[False,  True,  True,  True],\n",
              "       [False, False,  True, False],\n",
              "       [ True,  True, False, False]])"
            ]
          },
          "metadata": {
            "tags": []
          },
          "execution_count": 162
        }
      ]
    },
    {
      "cell_type": "code",
      "metadata": {
        "colab": {
          "base_uri": "https://localhost:8080/"
        },
        "id": "Q5TlbcbqIM0R",
        "outputId": "4d13810b-260e-4711-ef75-d3d0c3d20d36"
      },
      "source": [
        "x[x < 5]"
      ],
      "execution_count": 163,
      "outputs": [
        {
          "output_type": "execute_result",
          "data": {
            "text/plain": [
              "array([0, 3, 3, 3, 2, 4])"
            ]
          },
          "metadata": {
            "tags": []
          },
          "execution_count": 163
        }
      ]
    },
    {
      "cell_type": "markdown",
      "metadata": {
        "id": "TSHiWcmsIPuK"
      },
      "source": [
        " Fancy Indexing\n",
        "\n",
        "a. Exploring Fancy Indexing\n",
        "\n",
        "Fancy indexing secara konseptual sederhana: ini berarti meneruskan serangkaian indeks untuk diakses beberapa elemen array sekaligus. Misalnya, perhatikan array berikut"
      ]
    },
    {
      "cell_type": "code",
      "metadata": {
        "colab": {
          "base_uri": "https://localhost:8080/"
        },
        "id": "ta38kGF3IShe",
        "outputId": "365920fe-9ae0-41c0-fd08-53859097d48a"
      },
      "source": [
        "import numpy as np\n",
        "rand = np.random.RandomState(42)\n",
        "x = rand.randint(100, size=10)\n",
        "print(x)"
      ],
      "execution_count": 164,
      "outputs": [
        {
          "output_type": "stream",
          "text": [
            "[51 92 14 71 60 20 82 86 74 74]\n"
          ],
          "name": "stdout"
        }
      ]
    },
    {
      "cell_type": "code",
      "metadata": {
        "colab": {
          "base_uri": "https://localhost:8080/"
        },
        "id": "sWVqWVZQIT_v",
        "outputId": "e537ab34-d951-4c28-991f-11e6b7b6e1c6"
      },
      "source": [
        "#kita ingin mengakses tiga elemen berbeda\n",
        "[x[3], x[7], x[2]]"
      ],
      "execution_count": 165,
      "outputs": [
        {
          "output_type": "execute_result",
          "data": {
            "text/plain": [
              "[71, 86, 14]"
            ]
          },
          "metadata": {
            "tags": []
          },
          "execution_count": 165
        }
      ]
    },
    {
      "cell_type": "code",
      "metadata": {
        "colab": {
          "base_uri": "https://localhost:8080/"
        },
        "id": "oXi3f-bHIV1H",
        "outputId": "7e4bfda0-da4a-47ac-e4a4-7d1811f9bf3f"
      },
      "source": [
        "# melewatkan satu daftar atau larik indeks untuk mendapatkan hasil yang sama \n",
        "ind = [3, 7, 4]\n",
        "x[ind]"
      ],
      "execution_count": 166,
      "outputs": [
        {
          "output_type": "execute_result",
          "data": {
            "text/plain": [
              "array([71, 86, 60])"
            ]
          },
          "metadata": {
            "tags": []
          },
          "execution_count": 166
        }
      ]
    },
    {
      "cell_type": "markdown",
      "metadata": {
        "id": "hnl86wBIIZPI"
      },
      "source": [
        "\n",
        "Dengan fancy indexing, bentuk hasil mencerminkan bentuk array indeks daripada bentuk larik yang diindeks:"
      ]
    },
    {
      "cell_type": "code",
      "metadata": {
        "colab": {
          "base_uri": "https://localhost:8080/"
        },
        "id": "r2GrLzBAIXMq",
        "outputId": "9f99019f-31d9-40c0-da6e-15966af3d35b"
      },
      "source": [
        "ind = np.array([[3, 7],\n",
        "[4, 5]])\n",
        "x[ind]"
      ],
      "execution_count": 167,
      "outputs": [
        {
          "output_type": "execute_result",
          "data": {
            "text/plain": [
              "array([[71, 86],\n",
              "       [60, 20]])"
            ]
          },
          "metadata": {
            "tags": []
          },
          "execution_count": 167
        }
      ]
    },
    {
      "cell_type": "code",
      "metadata": {
        "colab": {
          "base_uri": "https://localhost:8080/"
        },
        "id": "K0AeN-xgIbG8",
        "outputId": "497e49d1-fd6d-4391-ed46-3a340851ff1b"
      },
      "source": [
        "#fancy indexing pada array multi dimension\n",
        "X = np.arange(12).reshape((3, 4))\n",
        "X"
      ],
      "execution_count": 168,
      "outputs": [
        {
          "output_type": "execute_result",
          "data": {
            "text/plain": [
              "array([[ 0,  1,  2,  3],\n",
              "       [ 4,  5,  6,  7],\n",
              "       [ 8,  9, 10, 11]])"
            ]
          },
          "metadata": {
            "tags": []
          },
          "execution_count": 168
        }
      ]
    },
    {
      "cell_type": "code",
      "metadata": {
        "colab": {
          "base_uri": "https://localhost:8080/"
        },
        "id": "AzutEFSoIclm",
        "outputId": "f2668e19-bb3f-4614-bb9d-0bb90b8d664d"
      },
      "source": [
        "#Seperti pengindeksan standar, indeks pertama mengacu pada baris, dan yang kedua mengacu pada kolom\n",
        "row = np.array([0, 1, 2])\n",
        "col = np.array([2, 1, 3])\n",
        "X[row, col]"
      ],
      "execution_count": 169,
      "outputs": [
        {
          "output_type": "execute_result",
          "data": {
            "text/plain": [
              "array([ 2,  5, 11])"
            ]
          },
          "metadata": {
            "tags": []
          },
          "execution_count": 169
        }
      ]
    },
    {
      "cell_type": "code",
      "metadata": {
        "colab": {
          "base_uri": "https://localhost:8080/"
        },
        "id": "-MlmnG7eIenB",
        "outputId": "0bce481a-73d4-45c9-c46b-43ee8fc2ef94"
      },
      "source": [
        "X[row[:, np.newaxis], col]"
      ],
      "execution_count": 170,
      "outputs": [
        {
          "output_type": "execute_result",
          "data": {
            "text/plain": [
              "array([[ 2,  1,  3],\n",
              "       [ 6,  5,  7],\n",
              "       [10,  9, 11]])"
            ]
          },
          "metadata": {
            "tags": []
          },
          "execution_count": 170
        }
      ]
    },
    {
      "cell_type": "code",
      "metadata": {
        "colab": {
          "base_uri": "https://localhost:8080/"
        },
        "id": "Wu4d9UtKIg6X",
        "outputId": "89467a9f-d316-45bb-8780-996f8478ad83"
      },
      "source": [
        "row[:, np.newaxis] * col"
      ],
      "execution_count": 171,
      "outputs": [
        {
          "output_type": "execute_result",
          "data": {
            "text/plain": [
              "array([[0, 0, 0],\n",
              "       [2, 1, 3],\n",
              "       [4, 2, 6]])"
            ]
          },
          "metadata": {
            "tags": []
          },
          "execution_count": 171
        }
      ]
    },
    {
      "cell_type": "markdown",
      "metadata": {
        "id": "Z46eHD8SIjKa"
      },
      "source": [
        "Combined Indexing\n",
        "\n",
        "Untuk operasi yang lebih bertenaga, fancy indexing dapat digabungkan dengan skema yang lain"
      ]
    },
    {
      "cell_type": "code",
      "metadata": {
        "colab": {
          "base_uri": "https://localhost:8080/"
        },
        "id": "w8tz9zskIjlA",
        "outputId": "44cd8fd7-a852-44d2-9769-ef477c5ccce6"
      },
      "source": [
        "print(X)"
      ],
      "execution_count": 172,
      "outputs": [
        {
          "output_type": "stream",
          "text": [
            "[[ 0  1  2  3]\n",
            " [ 4  5  6  7]\n",
            " [ 8  9 10 11]]\n"
          ],
          "name": "stdout"
        }
      ]
    },
    {
      "cell_type": "code",
      "metadata": {
        "colab": {
          "base_uri": "https://localhost:8080/"
        },
        "id": "9ykKOhOTImkJ",
        "outputId": "5ffb54c0-6ac5-4be4-ca78-70f0637319e4"
      },
      "source": [
        "#combine fancy and simple indices:\n",
        "X[2, [2, 0, 1]]"
      ],
      "execution_count": 173,
      "outputs": [
        {
          "output_type": "execute_result",
          "data": {
            "text/plain": [
              "array([10,  8,  9])"
            ]
          },
          "metadata": {
            "tags": []
          },
          "execution_count": 173
        }
      ]
    },
    {
      "cell_type": "code",
      "metadata": {
        "colab": {
          "base_uri": "https://localhost:8080/"
        },
        "id": "Fy8q9pATIoBq",
        "outputId": "45e6cfe9-a3a6-4f4d-9657-a51c67606574"
      },
      "source": [
        "# combine fancy indexing with slicing\n",
        "X[1:, [2, 0, 1]]"
      ],
      "execution_count": 174,
      "outputs": [
        {
          "output_type": "execute_result",
          "data": {
            "text/plain": [
              "array([[ 6,  4,  5],\n",
              "       [10,  8,  9]])"
            ]
          },
          "metadata": {
            "tags": []
          },
          "execution_count": 174
        }
      ]
    },
    {
      "cell_type": "code",
      "metadata": {
        "colab": {
          "base_uri": "https://localhost:8080/"
        },
        "id": "djwSF5CPIoeV",
        "outputId": "24416527-e3eb-4090-a1d0-081f2fa3c91c"
      },
      "source": [
        "# combine fancy indexing with masking\n",
        "mask = np.array([1, 0, 1, 0], dtype=bool)\n",
        "X[row[:, np.newaxis], mask]"
      ],
      "execution_count": 175,
      "outputs": [
        {
          "output_type": "execute_result",
          "data": {
            "text/plain": [
              "array([[ 0,  2],\n",
              "       [ 4,  6],\n",
              "       [ 8, 10]])"
            ]
          },
          "metadata": {
            "tags": []
          },
          "execution_count": 175
        }
      ]
    },
    {
      "cell_type": "markdown",
      "metadata": {
        "id": "NnfSuB9-IrzA"
      },
      "source": [
        " Example: Selecting Random Points\n",
        "\n",
        "Salah satu penggunaan umum fancy indexing adalah pemilihan subset baris dari matriks. Misalnya, kita mungkin memiliki matriks N kali D yang mewakili titik N di D dimension, seperti poin berikut yang diambil dari distribusi normal dua dimensi:"
      ]
    },
    {
      "cell_type": "code",
      "metadata": {
        "colab": {
          "base_uri": "https://localhost:8080/"
        },
        "id": "LziwsiqdIsNS",
        "outputId": "2c4630b0-983c-446f-a701-ddf5256d8a10"
      },
      "source": [
        "mean = [0, 0]\n",
        "cov = [[1, 2],[2, 5]]\n",
        "X = rand.multivariate_normal(mean, cov, 100)\n",
        "X.shape"
      ],
      "execution_count": 177,
      "outputs": [
        {
          "output_type": "execute_result",
          "data": {
            "text/plain": [
              "(100, 2)"
            ]
          },
          "metadata": {
            "tags": []
          },
          "execution_count": 177
        }
      ]
    },
    {
      "cell_type": "code",
      "metadata": {
        "colab": {
          "base_uri": "https://localhost:8080/",
          "height": 268
        },
        "id": "AuaFgKZzIvYU",
        "outputId": "e98ae11d-12db-4ecd-e73b-95644d8757fd"
      },
      "source": [
        "#use plotting tools\n",
        "%matplotlib inline\n",
        "import matplotlib.pyplot as plt\n",
        "import seaborn; seaborn.set() # for plot styling\n",
        "plt.scatter(X[:, 0], X[:, 1]);"
      ],
      "execution_count": 178,
      "outputs": [
        {
          "output_type": "display_data",
          "data": {
            "image/png": "[encoded data removed]",
            "text/plain": [
              "<Figure size 432x288 with 1 Axes>"
            ]
          },
          "metadata": {
            "tags": []
          }
        }
      ]
    },
    {
      "cell_type": "markdown",
      "metadata": {
        "id": "OHWBcrFRI-hn"
      },
      "source": [
        "Sorting Arrays\n",
        "\n",
        "membahas algoritme yang terkait dengan pengurutan nilai dalam Array NumPy. Misalnya, urutan pemilihan sederhana berulang kali menemukan nilai minimum dari daftar, dan melakukan swap hingga daftar diurutkan. Kita dapat mengkodekan ini hanya dalam beberapa baris Python:"
      ]
    },
    {
      "cell_type": "code",
      "metadata": {
        "id": "rUQ03RFEI_LH"
      },
      "source": [
        "\n",
        "import numpy as np\n",
        "def selection_sort(x):\n",
        "  for i in range(len(x)):\n",
        "    swap = i + np.argmin(x[i:])\n",
        "    (x[i], x[swap]) = (x[swap], x[i])\n",
        "  return x"
      ],
      "execution_count": 179,
      "outputs": []
    },
    {
      "cell_type": "code",
      "metadata": {
        "colab": {
          "base_uri": "https://localhost:8080/"
        },
        "id": "Oa-39BmZJBKc",
        "outputId": "4e32a99b-1287-48f3-ba92-dab013fcecc6"
      },
      "source": [
        "\n",
        "x = np.array([2, 1, 4, 3, 5])\n",
        "selection_sort(x)"
      ],
      "execution_count": 180,
      "outputs": [
        {
          "output_type": "execute_result",
          "data": {
            "text/plain": [
              "array([1, 2, 3, 4, 5])"
            ]
          },
          "metadata": {
            "tags": []
          },
          "execution_count": 180
        }
      ]
    },
    {
      "cell_type": "code",
      "metadata": {
        "id": "4Awr5be9JCml"
      },
      "source": [
        "def bogosort(x):\n",
        "  while np.any(x[:-1] > x[1:]):\n",
        "    np.random.shuffle(x)\n",
        "    return x"
      ],
      "execution_count": 181,
      "outputs": []
    },
    {
      "cell_type": "code",
      "metadata": {
        "colab": {
          "base_uri": "https://localhost:8080/"
        },
        "id": "6jWNkhNBJEeS",
        "outputId": "3d1e65c9-7704-4453-e9cd-14e16612eda9"
      },
      "source": [
        "x = np.array([2, 1, 4, 3, 5])\n",
        "bogosort(x)"
      ],
      "execution_count": 182,
      "outputs": [
        {
          "output_type": "execute_result",
          "data": {
            "text/plain": [
              "array([3, 1, 5, 2, 4])"
            ]
          },
          "metadata": {
            "tags": []
          },
          "execution_count": 182
        }
      ]
    },
    {
      "cell_type": "markdown",
      "metadata": {
        "id": "OPuQhsvWJI1F"
      },
      "source": [
        " Fast Sorting in NumPy: np.sort and np.argsort\n",
        "\n",
        "Untuk mengembalikan versi larik yang diurutkan tanpa mengubah input, Anda dapat menggunakan np.sort:"
      ]
    },
    {
      "cell_type": "code",
      "metadata": {
        "colab": {
          "base_uri": "https://localhost:8080/"
        },
        "id": "SLX48PCrJJN6",
        "outputId": "8afadbdb-b396-44b0-edbd-1039ad1632f3"
      },
      "source": [
        "x = np.array([2, 1, 4, 3, 5])\n",
        "np.sort(x)"
      ],
      "execution_count": 183,
      "outputs": [
        {
          "output_type": "execute_result",
          "data": {
            "text/plain": [
              "array([1, 2, 3, 4, 5])"
            ]
          },
          "metadata": {
            "tags": []
          },
          "execution_count": 183
        }
      ]
    },
    {
      "cell_type": "code",
      "metadata": {
        "colab": {
          "base_uri": "https://localhost:8080/"
        },
        "id": "ab7uZqDHJKk1",
        "outputId": "96121f7f-b65b-4189-d24d-72fee1b48d0e"
      },
      "source": [
        "x.sort()\n",
        "print(x)"
      ],
      "execution_count": 184,
      "outputs": [
        {
          "output_type": "stream",
          "text": [
            "[1 2 3 4 5]\n"
          ],
          "name": "stdout"
        }
      ]
    },
    {
      "cell_type": "code",
      "metadata": {
        "colab": {
          "base_uri": "https://localhost:8080/"
        },
        "id": "BkSzhW_0JL0e",
        "outputId": "9f3814cf-7bab-457a-d6ed-75026159b4d8"
      },
      "source": [
        "x = np.array([2, 1, 4, 3, 5])\n",
        "i = np.argsort(x)\n",
        "print(i)"
      ],
      "execution_count": 185,
      "outputs": [
        {
          "output_type": "stream",
          "text": [
            "[1 0 3 2 4]\n"
          ],
          "name": "stdout"
        }
      ]
    },
    {
      "cell_type": "code",
      "metadata": {
        "colab": {
          "base_uri": "https://localhost:8080/"
        },
        "id": "5sGVKSY5JOAC",
        "outputId": "25432f5b-82bf-476d-cb33-b316af86b317"
      },
      "source": [
        "x[i]"
      ],
      "execution_count": 186,
      "outputs": [
        {
          "output_type": "execute_result",
          "data": {
            "text/plain": [
              "array([1, 2, 3, 4, 5])"
            ]
          },
          "metadata": {
            "tags": []
          },
          "execution_count": 186
        }
      ]
    },
    {
      "cell_type": "markdown",
      "metadata": {
        "id": "UflNSyJoJS05"
      },
      "source": [
        " Example: k-Nearest Neighbors\n",
        "\n",
        "bagaimana kita dapat menggunakan fungsi argsort ini bersama beberapa sumbu untuk menemukan tetangga terdekat dari setiap titik dalam satu set. Kita akan mulai dengan membuat kumpulan acak 10 titik pada bidang dua dimensi. Dengan menggunakan konvensi standar, kami akan mengaturnya ini dalam larik 10 × 2:"
      ]
    },
    {
      "cell_type": "code",
      "metadata": {
        "id": "aEaS12EoJTID"
      },
      "source": [
        "X = rand.rand(10, 2)"
      ],
      "execution_count": 187,
      "outputs": []
    },
    {
      "cell_type": "code",
      "metadata": {
        "colab": {
          "base_uri": "https://localhost:8080/",
          "height": 268
        },
        "id": "dTNH0lkAJUWD",
        "outputId": "b630e539-5169-4283-d339-1d2f191c4251"
      },
      "source": [
        "%matplotlib inline\n",
        "import matplotlib.pyplot as plt\n",
        "import seaborn; seaborn.set() # Plot styling\n",
        "plt.scatter(X[:, 0], X[:, 1], s=100);\n"
      ],
      "execution_count": 188,
      "outputs": [
        {
          "output_type": "display_data",
          "data": {
            "image/png": "[encoded data removed]",
            "text/plain": [
              "<Figure size 432x288 with 1 Axes>"
            ]
          },
          "metadata": {
            "tags": []
          }
        }
      ]
    },
    {
      "cell_type": "code",
      "metadata": {
        "id": "3GAohs2SJVjD"
      },
      "source": [
        "dist_sq = np.sum((X[:,np.newaxis,:] - X[np.newaxis,:,:]) ** 2, axis=-1)"
      ],
      "execution_count": 189,
      "outputs": []
    },
    {
      "cell_type": "code",
      "metadata": {
        "colab": {
          "base_uri": "https://localhost:8080/"
        },
        "id": "zjCQ34yEJXDw",
        "outputId": "cc4060df-39e7-4483-b23f-0bb7868dbbae"
      },
      "source": [
        "# for each pair of points, compute differences in their coordinates\n",
        "differences = X[:, np.newaxis, :] - X[np.newaxis, :, :]\n",
        "differences.shape"
      ],
      "execution_count": 190,
      "outputs": [
        {
          "output_type": "execute_result",
          "data": {
            "text/plain": [
              "(10, 10, 2)"
            ]
          },
          "metadata": {
            "tags": []
          },
          "execution_count": 190
        }
      ]
    },
    {
      "cell_type": "code",
      "metadata": {
        "colab": {
          "base_uri": "https://localhost:8080/"
        },
        "id": "F2JiaSS4JZTT",
        "outputId": "d0c1b37a-9bde-4478-ffa1-ad9e3189678c"
      },
      "source": [
        "\n",
        "# square the coordinate differences\n",
        "sq_differences = differences ** 2\n",
        "sq_differences.shape"
      ],
      "execution_count": 191,
      "outputs": [
        {
          "output_type": "execute_result",
          "data": {
            "text/plain": [
              "(10, 10, 2)"
            ]
          },
          "metadata": {
            "tags": []
          },
          "execution_count": 191
        }
      ]
    },
    {
      "cell_type": "code",
      "metadata": {
        "id": "vUjeTJ86Je1c",
        "outputId": "27507864-7ee0-412c-a3a8-ae824ec460c4",
        "colab": {
          "base_uri": "https://localhost:8080/"
        }
      },
      "source": [
        "\n",
        "# sum the coordinate differences to get the squared distance\n",
        "dist_sq = sq_differences.sum(-1)\n",
        "dist_sq.shape"
      ],
      "execution_count": 192,
      "outputs": [
        {
          "output_type": "execute_result",
          "data": {
            "text/plain": [
              "(10, 10)"
            ]
          },
          "metadata": {
            "tags": []
          },
          "execution_count": 192
        }
      ]
    },
    {
      "cell_type": "code",
      "metadata": {
        "id": "OYaOyp5XJh2m",
        "outputId": "3ea6de09-df21-41dd-cc24-9e16fb53680f",
        "colab": {
          "base_uri": "https://localhost:8080/"
        }
      },
      "source": [
        "dist_sq.diagonal()"
      ],
      "execution_count": 193,
      "outputs": [
        {
          "output_type": "execute_result",
          "data": {
            "text/plain": [
              "array([0., 0., 0., 0., 0., 0., 0., 0., 0., 0.])"
            ]
          },
          "metadata": {
            "tags": []
          },
          "execution_count": 193
        }
      ]
    },
    {
      "cell_type": "code",
      "metadata": {
        "id": "yVfK44ZEJjIr",
        "outputId": "d266f1f4-894c-41f7-d5eb-8ba76ab96a66",
        "colab": {
          "base_uri": "https://localhost:8080/"
        }
      },
      "source": [
        "nearest = np.argsort(dist_sq, axis=1)\n",
        "print(nearest)"
      ],
      "execution_count": 194,
      "outputs": [
        {
          "output_type": "stream",
          "text": [
            "[[0 1 9 2 6 3 4 7 8 5]\n",
            " [1 2 0 9 6 3 4 7 8 5]\n",
            " [2 1 0 6 9 3 4 7 5 8]\n",
            " [3 6 0 1 2 9 5 8 4 7]\n",
            " [4 7 9 8 0 1 6 2 5 3]\n",
            " [5 8 3 6 7 9 0 4 1 2]\n",
            " [6 3 0 1 2 9 5 4 7 8]\n",
            " [7 4 8 9 0 5 1 6 2 3]\n",
            " [8 7 5 4 9 0 6 3 1 2]\n",
            " [9 0 1 2 6 4 7 3 8 5]]\n"
          ],
          "name": "stdout"
        }
      ]
    },
    {
      "cell_type": "code",
      "metadata": {
        "id": "jqsYiljmJlyC"
      },
      "source": [
        "K = 2\n",
        "nearest_partition = np.argpartition(dist_sq, K + 1, axis=1)"
      ],
      "execution_count": 195,
      "outputs": []
    },
    {
      "cell_type": "code",
      "metadata": {
        "id": "-x3C0dqSJmXZ",
        "outputId": "fa219ed9-4dae-4693-eb21-d93071ed2a1a",
        "colab": {
          "base_uri": "https://localhost:8080/",
          "height": 268
        }
      },
      "source": [
        "#visualisasi jaringan neighbors\n",
        "plt.scatter(X[:, 0], X[:, 1], s=100)\n",
        "# draw lines from each point to its two nearest neighbors\n",
        "K = 2\n",
        "for i in range(X.shape[0]):\n",
        "  for j in nearest_partition[i, :K+1]:\n",
        "# plot a line from X[i] to X[j]\n",
        "# use some zip magic to make it happen:\n",
        "    plt.plot(*zip(X[j], X[i]), color='black')"
      ],
      "execution_count": 196,
      "outputs": [
        {
          "output_type": "display_data",
          "data": {
            "image/png": "[encoded data removed]",
            "text/plain": [
              "<Figure size 432x288 with 1 Axes>"
            ]
          },
          "metadata": {
            "tags": []
          }
        }
      ]
    },
    {
      "cell_type": "markdown",
      "metadata": {
        "id": "7FfOLt35JvCD"
      },
      "source": [
        "Structured Data: NumPy’s Structured Arrays\n",
        "\n",
        "Bagian ini mendemonstrasikan penggunaan array terstruktur dan record array NumPy, yang menyediakan penyimpanan yang efisien untuk data majemuk dan heterogen.\n",
        "\n",
        "Bayangkan kita memiliki beberapa kategori data tentang sejumlah orang (misalnya, nama, usia, dan berat badan), dan kami ingin menyimpan nilai ini untuk digunakan dalam program Python. Ini akan memungkinkan untuk menyimpan ini dalam tiga larik terpisah:"
      ]
    },
    {
      "cell_type": "code",
      "metadata": {
        "id": "bV-rosuNJwXO"
      },
      "source": [
        "\n",
        "name = ['Alice', 'Bob', 'Cathy', 'Doug']\n",
        "age = [25, 45, 37, 19]\n",
        "weight = [55.0, 85.5, 68.0, 61.5]"
      ],
      "execution_count": 197,
      "outputs": []
    },
    {
      "cell_type": "code",
      "metadata": {
        "id": "pE8JgsUbJycQ"
      },
      "source": [
        "\n",
        "x = np.zeros(4, dtype=int)"
      ],
      "execution_count": 198,
      "outputs": []
    },
    {
      "cell_type": "code",
      "metadata": {
        "id": "grQV1VyuJzo6",
        "outputId": "8a09078d-49ea-4476-c84f-bc5a5fd33df2",
        "colab": {
          "base_uri": "https://localhost:8080/"
        }
      },
      "source": [
        "#membuat array terstruktur menggunakan spesifikasi tipe data gabungan\n",
        "# Use a compound data type for structured arrays\n",
        "data = np.zeros(4, dtype={'names':('name', 'age', 'weight'),'formats':('U10', 'i4', 'f8')})\n",
        "print(data.dtype)"
      ],
      "execution_count": 199,
      "outputs": [
        {
          "output_type": "stream",
          "text": [
            "[('name', '<U10'), ('age', '<i4'), ('weight', '<f8')]\n"
          ],
          "name": "stdout"
        }
      ]
    },
    {
      "cell_type": "code",
      "metadata": {
        "id": "jCRDZ1vBJ1WW",
        "outputId": "29a5d1c8-0cc9-4218-8656-8268b0d31819",
        "colab": {
          "base_uri": "https://localhost:8080/"
        }
      },
      "source": [
        "#setelah kita membuat larik penampung kosong, kita bisa mengisi larik dengan daftar nilai: \n",
        "data['name'] = name\n",
        "data['age'] = age\n",
        "data['weight'] = weight\n",
        "print(data)"
      ],
      "execution_count": 200,
      "outputs": [
        {
          "output_type": "stream",
          "text": [
            "[('Alice', 25, 55. ) ('Bob', 45, 85.5) ('Cathy', 37, 68. )\n",
            " ('Doug', 19, 61.5)]\n"
          ],
          "name": "stdout"
        }
      ]
    },
    {
      "cell_type": "code",
      "metadata": {
        "id": "tzTJgLZnJ3si",
        "outputId": "5df2eb17-1be0-4805-ef70-3ed9dcd6398e",
        "colab": {
          "base_uri": "https://localhost:8080/"
        }
      },
      "source": [
        "# Get all names\n",
        "data['name']"
      ],
      "execution_count": 201,
      "outputs": [
        {
          "output_type": "execute_result",
          "data": {
            "text/plain": [
              "array(['Alice', 'Bob', 'Cathy', 'Doug'], dtype='<U10')"
            ]
          },
          "metadata": {
            "tags": []
          },
          "execution_count": 201
        }
      ]
    },
    {
      "cell_type": "code",
      "metadata": {
        "id": "mbm831mwJ5JN",
        "outputId": "ad760bd7-ea99-48ec-9fa9-654c928c4635",
        "colab": {
          "base_uri": "https://localhost:8080/"
        }
      },
      "source": [
        "# Get first row of data\n",
        "data[0]"
      ],
      "execution_count": 202,
      "outputs": [
        {
          "output_type": "execute_result",
          "data": {
            "text/plain": [
              "('Alice', 25, 55.)"
            ]
          },
          "metadata": {
            "tags": []
          },
          "execution_count": 202
        }
      ]
    },
    {
      "cell_type": "code",
      "metadata": {
        "id": "3EAp4JERJ6wa",
        "outputId": "6db95305-2d11-40ab-ad6a-f6bcb964dd58",
        "colab": {
          "base_uri": "https://localhost:8080/",
          "height": 35
        }
      },
      "source": [
        "# Get the name from the last row\n",
        "data[-1]['name']"
      ],
      "execution_count": 203,
      "outputs": [
        {
          "output_type": "execute_result",
          "data": {
            "application/vnd.google.colaboratory.intrinsic+json": {
              "type": "string"
            },
            "text/plain": [
              "'Doug'"
            ]
          },
          "metadata": {
            "tags": []
          },
          "execution_count": 203
        }
      ]
    },
    {
      "cell_type": "code",
      "metadata": {
        "id": "py0iJ6JEJ87o",
        "outputId": "f1d92b54-1f8f-49a2-c84d-1c0159b8299b",
        "colab": {
          "base_uri": "https://localhost:8080/"
        }
      },
      "source": [
        "#Menggunakan boolean masking untuk filter usia\n",
        "# Get names where age is under 30\n",
        "data[data['age'] < 30]['name']"
      ],
      "execution_count": 204,
      "outputs": [
        {
          "output_type": "execute_result",
          "data": {
            "text/plain": [
              "array(['Alice', 'Doug'], dtype='<U10')"
            ]
          },
          "metadata": {
            "tags": []
          },
          "execution_count": 204
        }
      ]
    },
    {
      "cell_type": "markdown",
      "metadata": {
        "id": "GCBGCGg9KBPi"
      },
      "source": [
        "Creating Structured Arrays\n",
        "\n",
        "Tipe data array terstruktur dapat ditentukan dengan beberapa cara. Sebelumnya"
      ]
    },
    {
      "cell_type": "code",
      "metadata": {
        "id": "n6Fe3AtNKCVJ",
        "outputId": "770a32a5-ba6e-4d95-f4b2-16f4385d360f",
        "colab": {
          "base_uri": "https://localhost:8080/"
        }
      },
      "source": [
        "np.dtype({'names':('name', 'age', 'weight'),'formats':('U10', 'i4', 'f8')})"
      ],
      "execution_count": 205,
      "outputs": [
        {
          "output_type": "execute_result",
          "data": {
            "text/plain": [
              "dtype([('name', '<U10'), ('age', '<i4'), ('weight', '<f8')])"
            ]
          },
          "metadata": {
            "tags": []
          },
          "execution_count": 205
        }
      ]
    },
    {
      "cell_type": "code",
      "metadata": {
        "id": "HrGT5zdlKD51",
        "outputId": "0d7d175f-f30d-4ce9-cb63-d803f140efaf",
        "colab": {
          "base_uri": "https://localhost:8080/"
        }
      },
      "source": [
        "np.dtype({'names':('name', 'age', 'weight'),'formats':((np.str_, 10), int, np.float32)})"
      ],
      "execution_count": 206,
      "outputs": [
        {
          "output_type": "execute_result",
          "data": {
            "text/plain": [
              "dtype([('name', '<U10'), ('age', '<i8'), ('weight', '<f4')])"
            ]
          },
          "metadata": {
            "tags": []
          },
          "execution_count": 206
        }
      ]
    },
    {
      "cell_type": "code",
      "metadata": {
        "id": "qkkUOpJmKFaQ",
        "outputId": "964f6ac9-ddd2-435c-88ff-4b0b26cf1719",
        "colab": {
          "base_uri": "https://localhost:8080/"
        }
      },
      "source": [
        "#Jenis gabungan juga dapat ditentukan sebagai daftar tupel: \n",
        "np.dtype([('name', 'S10'), ('age', 'i4'), ('weight', 'f8')])"
      ],
      "execution_count": 211,
      "outputs": [
        {
          "output_type": "execute_result",
          "data": {
            "text/plain": [
              "dtype([('name', 'S10'), ('age', '<i4'), ('weight', '<f8')])"
            ]
          },
          "metadata": {
            "tags": []
          },
          "execution_count": 0
        }
      ]
    },
    {
      "cell_type": "code",
      "metadata": {
        "id": "u1UtU1OSKLmF",
        "outputId": "14d0c516-9f0f-41eb-de94-0cf4d4591652",
        "colab": {
          "base_uri": "https://localhost:8080/"
        }
      },
      "source": [
        "np.dtype('S10,i4,f8')"
      ],
      "execution_count": 213,
      "outputs": [
        {
          "output_type": "execute_result",
          "data": {
            "text/plain": [
              "dtype([('f0', 'S10'), ('f1', '<i4'), ('f2', '<f8')])"
            ]
          },
          "metadata": {
            "tags": []
          },
          "execution_count": 213
        }
      ]
    },
    {
      "cell_type": "code",
      "metadata": {
        "id": "Vs_r24zzKSfs",
        "outputId": "c6302e03-76d6-4f2c-f6c2-16dc74ffbcf1",
        "colab": {
          "base_uri": "https://localhost:8080/"
        }
      },
      "source": [
        "np.dtype('S10,i4,f8')"
      ],
      "execution_count": 214,
      "outputs": [
        {
          "output_type": "execute_result",
          "data": {
            "text/plain": [
              "dtype([('f0', 'S10'), ('f1', '<i4'), ('f2', '<f8')])"
            ]
          },
          "metadata": {
            "tags": []
          },
          "execution_count": 214
        }
      ]
    },
    {
      "cell_type": "markdown",
      "metadata": {
        "id": "673C6iX0KT0B"
      },
      "source": [
        "More Advanced Compound Types\n",
        "\n",
        "Dimungkinkan untuk mendefinisikan tipe gabungan yang lebih maju. Misalnya, Anda bisa buat tipe di mana setiap elemen berisi larik atau matriks nilai. Di sini, kita akan buat tipe data dengan komponen matriks yang terdiri dari matriks floating-point 3 × 3:"
      ]
    },
    {
      "cell_type": "code",
      "metadata": {
        "id": "uhGbUk00KVGb",
        "outputId": "f75c8108-a96c-4d0a-a080-a2d734925070",
        "colab": {
          "base_uri": "https://localhost:8080/"
        }
      },
      "source": [
        "\n",
        "tp = np.dtype([('id', 'i8'), ('mat', 'f8', (3, 3))])\n",
        "X = np.zeros(1, dtype=tp)\n",
        "print(X[0])\n",
        "print(X['mat'][0])"
      ],
      "execution_count": 215,
      "outputs": [
        {
          "output_type": "stream",
          "text": [
            "(0, [[0., 0., 0.], [0., 0., 0.], [0., 0., 0.]])\n",
            "[[0. 0. 0.]\n",
            " [0. 0. 0.]\n",
            " [0. 0. 0.]]\n"
          ],
          "name": "stdout"
        }
      ]
    },
    {
      "cell_type": "markdown",
      "metadata": {
        "id": "Q6q-aFfCKhDF"
      },
      "source": [
        "RecordArrays: Structured Arrays with a Twist\n",
        "\n",
        "NumPy juga menyediakan kelas np.recarray, yang hampir identik dengan array terstruktur yang baru saja dijelaskan, tetapi dengan satu fitur tambahan: bidang dapat diakses sebagai atribut bukan sebagai kunci kamus. Ingatlah bahwa kita sebelumnya mengakses usia dengan menulis:"
      ]
    },
    {
      "cell_type": "code",
      "metadata": {
        "id": "SHnOyFfXKfCh",
        "outputId": "caff52ec-8e17-4cb8-c550-320c31aa98c3",
        "colab": {
          "base_uri": "https://localhost:8080/"
        }
      },
      "source": [
        "data['age']"
      ],
      "execution_count": 216,
      "outputs": [
        {
          "output_type": "execute_result",
          "data": {
            "text/plain": [
              "array([25, 45, 37, 19], dtype=int32)"
            ]
          },
          "metadata": {
            "tags": []
          },
          "execution_count": 216
        }
      ]
    },
    {
      "cell_type": "code",
      "metadata": {
        "id": "dX9p_JmYKkWq",
        "outputId": "0e06bbd1-070a-4c94-de66-3188fa94cb7b",
        "colab": {
          "base_uri": "https://localhost:8080/"
        }
      },
      "source": [
        "data_rec = data.view(np.recarray)\n",
        "data_rec.age"
      ],
      "execution_count": 217,
      "outputs": [
        {
          "output_type": "execute_result",
          "data": {
            "text/plain": [
              "array([25, 45, 37, 19], dtype=int32)"
            ]
          },
          "metadata": {
            "tags": []
          },
          "execution_count": 217
        }
      ]
    },
    {
      "cell_type": "code",
      "metadata": {
        "id": "eUp-oAMDKk29",
        "outputId": "e3e690d5-f9c4-49cd-b0ab-8d6951d3184b",
        "colab": {
          "base_uri": "https://localhost:8080/"
        }
      },
      "source": [
        "%timeit data['age']\n",
        "%timeit data_rec['age']\n",
        "%timeit data_rec.age"
      ],
      "execution_count": 218,
      "outputs": [
        {
          "output_type": "stream",
          "text": [
            "The slowest run took 51.11 times longer than the fastest. This could mean that an intermediate result is being cached.\n",
            "1000000 loops, best of 5: 204 ns per loop\n",
            "The slowest run took 8.64 times longer than the fastest. This could mean that an intermediate result is being cached.\n",
            "100000 loops, best of 5: 3.12 µs per loop\n",
            "The slowest run took 6.24 times longer than the fastest. This could mean that an intermediate result is being cached.\n",
            "100000 loops, best of 5: 4.02 µs per loop\n"
          ],
          "name": "stdout"
        }
      ]
    }
  ]
}